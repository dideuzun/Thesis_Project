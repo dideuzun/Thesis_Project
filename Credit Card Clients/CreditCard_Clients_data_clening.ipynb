{
 "cells": [
  {
   "cell_type": "markdown",
   "metadata": {},
   "source": [
    "### Importing Libraries and Data Frames"
   ]
  },
  {
   "cell_type": "code",
   "execution_count": 1,
   "metadata": {},
   "outputs": [],
   "source": [
    "import pandas as pd\n",
    "import numpy as np\n",
    "\n",
    "from sklearn import preprocessing\n",
    "from sklearn.model_selection import train_test_split\n",
    "from sklearn.preprocessing import LabelEncoder\n",
    "from sklearn.preprocessing import OneHotEncoder\n",
    "import pickle"
   ]
  },
  {
   "cell_type": "code",
   "execution_count": 10,
   "metadata": {},
   "outputs": [],
   "source": [
    "# Load the dataframe from a csv file\n",
    "df = pd.read_excel(r'C:\\Users\\dideu\\OneDrive\\Documents\\DDB\\thesis\\Thesis_Project\\Credit Card Clients\\default of credit card clients.xls', header=1)\n"
   ]
  },
  {
   "cell_type": "markdown",
   "metadata": {},
   "source": [
    "### Exploring the Data Frames"
   ]
  },
  {
   "cell_type": "code",
   "execution_count": 11,
   "metadata": {},
   "outputs": [
    {
     "data": {
      "text/html": [
       "<div>\n",
       "<style scoped>\n",
       "    .dataframe tbody tr th:only-of-type {\n",
       "        vertical-align: middle;\n",
       "    }\n",
       "\n",
       "    .dataframe tbody tr th {\n",
       "        vertical-align: top;\n",
       "    }\n",
       "\n",
       "    .dataframe thead th {\n",
       "        text-align: right;\n",
       "    }\n",
       "</style>\n",
       "<table border=\"1\" class=\"dataframe\">\n",
       "  <thead>\n",
       "    <tr style=\"text-align: right;\">\n",
       "      <th></th>\n",
       "      <th>ID</th>\n",
       "      <th>LIMIT_BAL</th>\n",
       "      <th>SEX</th>\n",
       "      <th>EDUCATION</th>\n",
       "      <th>MARRIAGE</th>\n",
       "      <th>AGE</th>\n",
       "      <th>PAY_0</th>\n",
       "      <th>PAY_2</th>\n",
       "      <th>PAY_3</th>\n",
       "      <th>PAY_4</th>\n",
       "      <th>...</th>\n",
       "      <th>BILL_AMT4</th>\n",
       "      <th>BILL_AMT5</th>\n",
       "      <th>BILL_AMT6</th>\n",
       "      <th>PAY_AMT1</th>\n",
       "      <th>PAY_AMT2</th>\n",
       "      <th>PAY_AMT3</th>\n",
       "      <th>PAY_AMT4</th>\n",
       "      <th>PAY_AMT5</th>\n",
       "      <th>PAY_AMT6</th>\n",
       "      <th>default payment next month</th>\n",
       "    </tr>\n",
       "  </thead>\n",
       "  <tbody>\n",
       "    <tr>\n",
       "      <th>0</th>\n",
       "      <td>1</td>\n",
       "      <td>20000</td>\n",
       "      <td>2</td>\n",
       "      <td>2</td>\n",
       "      <td>1</td>\n",
       "      <td>24</td>\n",
       "      <td>2</td>\n",
       "      <td>2</td>\n",
       "      <td>-1</td>\n",
       "      <td>-1</td>\n",
       "      <td>...</td>\n",
       "      <td>0</td>\n",
       "      <td>0</td>\n",
       "      <td>0</td>\n",
       "      <td>0</td>\n",
       "      <td>689</td>\n",
       "      <td>0</td>\n",
       "      <td>0</td>\n",
       "      <td>0</td>\n",
       "      <td>0</td>\n",
       "      <td>1</td>\n",
       "    </tr>\n",
       "    <tr>\n",
       "      <th>1</th>\n",
       "      <td>2</td>\n",
       "      <td>120000</td>\n",
       "      <td>2</td>\n",
       "      <td>2</td>\n",
       "      <td>2</td>\n",
       "      <td>26</td>\n",
       "      <td>-1</td>\n",
       "      <td>2</td>\n",
       "      <td>0</td>\n",
       "      <td>0</td>\n",
       "      <td>...</td>\n",
       "      <td>3272</td>\n",
       "      <td>3455</td>\n",
       "      <td>3261</td>\n",
       "      <td>0</td>\n",
       "      <td>1000</td>\n",
       "      <td>1000</td>\n",
       "      <td>1000</td>\n",
       "      <td>0</td>\n",
       "      <td>2000</td>\n",
       "      <td>1</td>\n",
       "    </tr>\n",
       "    <tr>\n",
       "      <th>2</th>\n",
       "      <td>3</td>\n",
       "      <td>90000</td>\n",
       "      <td>2</td>\n",
       "      <td>2</td>\n",
       "      <td>2</td>\n",
       "      <td>34</td>\n",
       "      <td>0</td>\n",
       "      <td>0</td>\n",
       "      <td>0</td>\n",
       "      <td>0</td>\n",
       "      <td>...</td>\n",
       "      <td>14331</td>\n",
       "      <td>14948</td>\n",
       "      <td>15549</td>\n",
       "      <td>1518</td>\n",
       "      <td>1500</td>\n",
       "      <td>1000</td>\n",
       "      <td>1000</td>\n",
       "      <td>1000</td>\n",
       "      <td>5000</td>\n",
       "      <td>0</td>\n",
       "    </tr>\n",
       "    <tr>\n",
       "      <th>3</th>\n",
       "      <td>4</td>\n",
       "      <td>50000</td>\n",
       "      <td>2</td>\n",
       "      <td>2</td>\n",
       "      <td>1</td>\n",
       "      <td>37</td>\n",
       "      <td>0</td>\n",
       "      <td>0</td>\n",
       "      <td>0</td>\n",
       "      <td>0</td>\n",
       "      <td>...</td>\n",
       "      <td>28314</td>\n",
       "      <td>28959</td>\n",
       "      <td>29547</td>\n",
       "      <td>2000</td>\n",
       "      <td>2019</td>\n",
       "      <td>1200</td>\n",
       "      <td>1100</td>\n",
       "      <td>1069</td>\n",
       "      <td>1000</td>\n",
       "      <td>0</td>\n",
       "    </tr>\n",
       "    <tr>\n",
       "      <th>4</th>\n",
       "      <td>5</td>\n",
       "      <td>50000</td>\n",
       "      <td>1</td>\n",
       "      <td>2</td>\n",
       "      <td>1</td>\n",
       "      <td>57</td>\n",
       "      <td>-1</td>\n",
       "      <td>0</td>\n",
       "      <td>-1</td>\n",
       "      <td>0</td>\n",
       "      <td>...</td>\n",
       "      <td>20940</td>\n",
       "      <td>19146</td>\n",
       "      <td>19131</td>\n",
       "      <td>2000</td>\n",
       "      <td>36681</td>\n",
       "      <td>10000</td>\n",
       "      <td>9000</td>\n",
       "      <td>689</td>\n",
       "      <td>679</td>\n",
       "      <td>0</td>\n",
       "    </tr>\n",
       "  </tbody>\n",
       "</table>\n",
       "<p>5 rows × 25 columns</p>\n",
       "</div>"
      ],
      "text/plain": [
       "   ID  LIMIT_BAL  SEX  EDUCATION  MARRIAGE  AGE  PAY_0  PAY_2  PAY_3  PAY_4  \\\n",
       "0   1      20000    2          2         1   24      2      2     -1     -1   \n",
       "1   2     120000    2          2         2   26     -1      2      0      0   \n",
       "2   3      90000    2          2         2   34      0      0      0      0   \n",
       "3   4      50000    2          2         1   37      0      0      0      0   \n",
       "4   5      50000    1          2         1   57     -1      0     -1      0   \n",
       "\n",
       "   ...  BILL_AMT4  BILL_AMT5  BILL_AMT6  PAY_AMT1  PAY_AMT2  PAY_AMT3  \\\n",
       "0  ...          0          0          0         0       689         0   \n",
       "1  ...       3272       3455       3261         0      1000      1000   \n",
       "2  ...      14331      14948      15549      1518      1500      1000   \n",
       "3  ...      28314      28959      29547      2000      2019      1200   \n",
       "4  ...      20940      19146      19131      2000     36681     10000   \n",
       "\n",
       "   PAY_AMT4  PAY_AMT5  PAY_AMT6  default payment next month  \n",
       "0         0         0         0                           1  \n",
       "1      1000         0      2000                           1  \n",
       "2      1000      1000      5000                           0  \n",
       "3      1100      1069      1000                           0  \n",
       "4      9000       689       679                           0  \n",
       "\n",
       "[5 rows x 25 columns]"
      ]
     },
     "execution_count": 11,
     "metadata": {},
     "output_type": "execute_result"
    }
   ],
   "source": [
    "df.head()"
   ]
  },
  {
   "cell_type": "code",
   "execution_count": 12,
   "metadata": {},
   "outputs": [
    {
     "name": "stdout",
     "output_type": "stream",
     "text": [
      "<class 'pandas.core.frame.DataFrame'>\n",
      "RangeIndex: 30000 entries, 0 to 29999\n",
      "Data columns (total 25 columns):\n",
      " #   Column                      Non-Null Count  Dtype\n",
      "---  ------                      --------------  -----\n",
      " 0   ID                          30000 non-null  int64\n",
      " 1   LIMIT_BAL                   30000 non-null  int64\n",
      " 2   SEX                         30000 non-null  int64\n",
      " 3   EDUCATION                   30000 non-null  int64\n",
      " 4   MARRIAGE                    30000 non-null  int64\n",
      " 5   AGE                         30000 non-null  int64\n",
      " 6   PAY_0                       30000 non-null  int64\n",
      " 7   PAY_2                       30000 non-null  int64\n",
      " 8   PAY_3                       30000 non-null  int64\n",
      " 9   PAY_4                       30000 non-null  int64\n",
      " 10  PAY_5                       30000 non-null  int64\n",
      " 11  PAY_6                       30000 non-null  int64\n",
      " 12  BILL_AMT1                   30000 non-null  int64\n",
      " 13  BILL_AMT2                   30000 non-null  int64\n",
      " 14  BILL_AMT3                   30000 non-null  int64\n",
      " 15  BILL_AMT4                   30000 non-null  int64\n",
      " 16  BILL_AMT5                   30000 non-null  int64\n",
      " 17  BILL_AMT6                   30000 non-null  int64\n",
      " 18  PAY_AMT1                    30000 non-null  int64\n",
      " 19  PAY_AMT2                    30000 non-null  int64\n",
      " 20  PAY_AMT3                    30000 non-null  int64\n",
      " 21  PAY_AMT4                    30000 non-null  int64\n",
      " 22  PAY_AMT5                    30000 non-null  int64\n",
      " 23  PAY_AMT6                    30000 non-null  int64\n",
      " 24  default payment next month  30000 non-null  int64\n",
      "dtypes: int64(25)\n",
      "memory usage: 5.7 MB\n"
     ]
    }
   ],
   "source": [
    "df.info()"
   ]
  },
  {
   "cell_type": "markdown",
   "metadata": {},
   "source": [
    "Print count and percentage of classes variable"
   ]
  },
  {
   "cell_type": "code",
   "execution_count": 14,
   "metadata": {},
   "outputs": [
    {
     "name": "stdout",
     "output_type": "stream",
     "text": [
      "Class counts:\n",
      " 0    23364\n",
      "1     6636\n",
      "Name: default payment next month, dtype: int64 \n",
      "\n",
      "Percentage of each class: \n",
      " 0    77.88\n",
      "1    22.12\n",
      "Name: default payment next month, dtype: float64\n",
      "\n",
      "Total number of rows:  30000\n"
     ]
    }
   ],
   "source": [
    "# Calculate the counts of unique values in the 'class' column \n",
    "class_counts = df['default payment next month'].value_counts()\n",
    "\n",
    "# Calculate the percentage of each unique value in the 'class' column by dividing 'class_counts' by its sum and then multiplying by 100.\n",
    "class_percentages = class_counts / class_counts.sum() * 100\n",
    "\n",
    "print('Class counts:\\n' ,class_counts, '\\n')\n",
    "print('Percentage of each class: \\n' ,class_percentages)\n",
    "print('\\nTotal number of rows: ', df.shape[0])\n",
    "\n",
    "# Saving this for future use\n",
    "a = df.shape[0]"
   ]
  },
  {
   "cell_type": "markdown",
   "metadata": {},
   "source": [
    "#### Cleaning features dataframe"
   ]
  },
  {
   "cell_type": "code",
   "execution_count": 16,
   "metadata": {},
   "outputs": [],
   "source": [
    "#Some values are like '?'. Replacing them as NaN \n",
    "df[df == '?'] = np.nan"
   ]
  },
  {
   "cell_type": "code",
   "execution_count": 17,
   "metadata": {},
   "outputs": [],
   "source": [
    "# Dropping the rows with NaN values in  'workclass', 'occupation', 'native-country' for the test dataset\n",
    "df.dropna( inplace=True)"
   ]
  },
  {
   "cell_type": "code",
   "execution_count": 19,
   "metadata": {},
   "outputs": [
    {
     "data": {
      "text/html": [
       "<div>\n",
       "<style scoped>\n",
       "    .dataframe tbody tr th:only-of-type {\n",
       "        vertical-align: middle;\n",
       "    }\n",
       "\n",
       "    .dataframe tbody tr th {\n",
       "        vertical-align: top;\n",
       "    }\n",
       "\n",
       "    .dataframe thead th {\n",
       "        text-align: right;\n",
       "    }\n",
       "</style>\n",
       "<table border=\"1\" class=\"dataframe\">\n",
       "  <thead>\n",
       "    <tr style=\"text-align: right;\">\n",
       "      <th></th>\n",
       "      <th>ID</th>\n",
       "      <th>LIMIT_BAL</th>\n",
       "      <th>SEX</th>\n",
       "      <th>EDUCATION</th>\n",
       "      <th>MARRIAGE</th>\n",
       "      <th>AGE</th>\n",
       "      <th>PAY_0</th>\n",
       "      <th>PAY_2</th>\n",
       "      <th>PAY_3</th>\n",
       "      <th>PAY_4</th>\n",
       "      <th>...</th>\n",
       "      <th>BILL_AMT4</th>\n",
       "      <th>BILL_AMT5</th>\n",
       "      <th>BILL_AMT6</th>\n",
       "      <th>PAY_AMT1</th>\n",
       "      <th>PAY_AMT2</th>\n",
       "      <th>PAY_AMT3</th>\n",
       "      <th>PAY_AMT4</th>\n",
       "      <th>PAY_AMT5</th>\n",
       "      <th>PAY_AMT6</th>\n",
       "      <th>default payment next month</th>\n",
       "    </tr>\n",
       "  </thead>\n",
       "  <tbody>\n",
       "    <tr>\n",
       "      <th>0</th>\n",
       "      <td>1</td>\n",
       "      <td>20000</td>\n",
       "      <td>2</td>\n",
       "      <td>2</td>\n",
       "      <td>1</td>\n",
       "      <td>24</td>\n",
       "      <td>2</td>\n",
       "      <td>2</td>\n",
       "      <td>-1</td>\n",
       "      <td>-1</td>\n",
       "      <td>...</td>\n",
       "      <td>0</td>\n",
       "      <td>0</td>\n",
       "      <td>0</td>\n",
       "      <td>0</td>\n",
       "      <td>689</td>\n",
       "      <td>0</td>\n",
       "      <td>0</td>\n",
       "      <td>0</td>\n",
       "      <td>0</td>\n",
       "      <td>1</td>\n",
       "    </tr>\n",
       "    <tr>\n",
       "      <th>1</th>\n",
       "      <td>2</td>\n",
       "      <td>120000</td>\n",
       "      <td>2</td>\n",
       "      <td>2</td>\n",
       "      <td>2</td>\n",
       "      <td>26</td>\n",
       "      <td>-1</td>\n",
       "      <td>2</td>\n",
       "      <td>0</td>\n",
       "      <td>0</td>\n",
       "      <td>...</td>\n",
       "      <td>3272</td>\n",
       "      <td>3455</td>\n",
       "      <td>3261</td>\n",
       "      <td>0</td>\n",
       "      <td>1000</td>\n",
       "      <td>1000</td>\n",
       "      <td>1000</td>\n",
       "      <td>0</td>\n",
       "      <td>2000</td>\n",
       "      <td>1</td>\n",
       "    </tr>\n",
       "    <tr>\n",
       "      <th>2</th>\n",
       "      <td>3</td>\n",
       "      <td>90000</td>\n",
       "      <td>2</td>\n",
       "      <td>2</td>\n",
       "      <td>2</td>\n",
       "      <td>34</td>\n",
       "      <td>0</td>\n",
       "      <td>0</td>\n",
       "      <td>0</td>\n",
       "      <td>0</td>\n",
       "      <td>...</td>\n",
       "      <td>14331</td>\n",
       "      <td>14948</td>\n",
       "      <td>15549</td>\n",
       "      <td>1518</td>\n",
       "      <td>1500</td>\n",
       "      <td>1000</td>\n",
       "      <td>1000</td>\n",
       "      <td>1000</td>\n",
       "      <td>5000</td>\n",
       "      <td>0</td>\n",
       "    </tr>\n",
       "    <tr>\n",
       "      <th>3</th>\n",
       "      <td>4</td>\n",
       "      <td>50000</td>\n",
       "      <td>2</td>\n",
       "      <td>2</td>\n",
       "      <td>1</td>\n",
       "      <td>37</td>\n",
       "      <td>0</td>\n",
       "      <td>0</td>\n",
       "      <td>0</td>\n",
       "      <td>0</td>\n",
       "      <td>...</td>\n",
       "      <td>28314</td>\n",
       "      <td>28959</td>\n",
       "      <td>29547</td>\n",
       "      <td>2000</td>\n",
       "      <td>2019</td>\n",
       "      <td>1200</td>\n",
       "      <td>1100</td>\n",
       "      <td>1069</td>\n",
       "      <td>1000</td>\n",
       "      <td>0</td>\n",
       "    </tr>\n",
       "    <tr>\n",
       "      <th>4</th>\n",
       "      <td>5</td>\n",
       "      <td>50000</td>\n",
       "      <td>1</td>\n",
       "      <td>2</td>\n",
       "      <td>1</td>\n",
       "      <td>57</td>\n",
       "      <td>-1</td>\n",
       "      <td>0</td>\n",
       "      <td>-1</td>\n",
       "      <td>0</td>\n",
       "      <td>...</td>\n",
       "      <td>20940</td>\n",
       "      <td>19146</td>\n",
       "      <td>19131</td>\n",
       "      <td>2000</td>\n",
       "      <td>36681</td>\n",
       "      <td>10000</td>\n",
       "      <td>9000</td>\n",
       "      <td>689</td>\n",
       "      <td>679</td>\n",
       "      <td>0</td>\n",
       "    </tr>\n",
       "  </tbody>\n",
       "</table>\n",
       "<p>5 rows × 25 columns</p>\n",
       "</div>"
      ],
      "text/plain": [
       "   ID  LIMIT_BAL  SEX  EDUCATION  MARRIAGE  AGE  PAY_0  PAY_2  PAY_3  PAY_4  \\\n",
       "0   1      20000    2          2         1   24      2      2     -1     -1   \n",
       "1   2     120000    2          2         2   26     -1      2      0      0   \n",
       "2   3      90000    2          2         2   34      0      0      0      0   \n",
       "3   4      50000    2          2         1   37      0      0      0      0   \n",
       "4   5      50000    1          2         1   57     -1      0     -1      0   \n",
       "\n",
       "   ...  BILL_AMT4  BILL_AMT5  BILL_AMT6  PAY_AMT1  PAY_AMT2  PAY_AMT3  \\\n",
       "0  ...          0          0          0         0       689         0   \n",
       "1  ...       3272       3455       3261         0      1000      1000   \n",
       "2  ...      14331      14948      15549      1518      1500      1000   \n",
       "3  ...      28314      28959      29547      2000      2019      1200   \n",
       "4  ...      20940      19146      19131      2000     36681     10000   \n",
       "\n",
       "   PAY_AMT4  PAY_AMT5  PAY_AMT6  default payment next month  \n",
       "0         0         0         0                           1  \n",
       "1      1000         0      2000                           1  \n",
       "2      1000      1000      5000                           0  \n",
       "3      1100      1069      1000                           0  \n",
       "4      9000       689       679                           0  \n",
       "\n",
       "[5 rows x 25 columns]"
      ]
     },
     "execution_count": 19,
     "metadata": {},
     "output_type": "execute_result"
    }
   ],
   "source": [
    "df.head()"
   ]
  },
  {
   "cell_type": "markdown",
   "metadata": {},
   "source": [
    "### Creating X and y sets"
   ]
  },
  {
   "cell_type": "code",
   "execution_count": 21,
   "metadata": {},
   "outputs": [],
   "source": [
    "# From X set, education column is also dropped as it is similar to Education-num\n",
    "X = df.drop(['default payment next month'], axis=1)\n",
    "\n",
    "y = df['default payment next month']"
   ]
  },
  {
   "cell_type": "code",
   "execution_count": 22,
   "metadata": {},
   "outputs": [
    {
     "name": "stdout",
     "output_type": "stream",
     "text": [
      "<class 'pandas.core.frame.DataFrame'>\n",
      "RangeIndex: 30000 entries, 0 to 29999\n",
      "Data columns (total 24 columns):\n",
      " #   Column     Non-Null Count  Dtype\n",
      "---  ------     --------------  -----\n",
      " 0   ID         30000 non-null  int64\n",
      " 1   LIMIT_BAL  30000 non-null  int64\n",
      " 2   SEX        30000 non-null  int64\n",
      " 3   EDUCATION  30000 non-null  int64\n",
      " 4   MARRIAGE   30000 non-null  int64\n",
      " 5   AGE        30000 non-null  int64\n",
      " 6   PAY_0      30000 non-null  int64\n",
      " 7   PAY_2      30000 non-null  int64\n",
      " 8   PAY_3      30000 non-null  int64\n",
      " 9   PAY_4      30000 non-null  int64\n",
      " 10  PAY_5      30000 non-null  int64\n",
      " 11  PAY_6      30000 non-null  int64\n",
      " 12  BILL_AMT1  30000 non-null  int64\n",
      " 13  BILL_AMT2  30000 non-null  int64\n",
      " 14  BILL_AMT3  30000 non-null  int64\n",
      " 15  BILL_AMT4  30000 non-null  int64\n",
      " 16  BILL_AMT5  30000 non-null  int64\n",
      " 17  BILL_AMT6  30000 non-null  int64\n",
      " 18  PAY_AMT1   30000 non-null  int64\n",
      " 19  PAY_AMT2   30000 non-null  int64\n",
      " 20  PAY_AMT3   30000 non-null  int64\n",
      " 21  PAY_AMT4   30000 non-null  int64\n",
      " 22  PAY_AMT5   30000 non-null  int64\n",
      " 23  PAY_AMT6   30000 non-null  int64\n",
      "dtypes: int64(24)\n",
      "memory usage: 5.5 MB\n"
     ]
    }
   ],
   "source": [
    "X.info()"
   ]
  },
  {
   "cell_type": "code",
   "execution_count": 98,
   "metadata": {},
   "outputs": [
    {
     "data": {
      "text/plain": [
       "0    34014\n",
       "1    11208\n",
       "Name: income, dtype: int64"
      ]
     },
     "execution_count": 98,
     "metadata": {},
     "output_type": "execute_result"
    }
   ],
   "source": [
    "y.value_counts()"
   ]
  },
  {
   "cell_type": "markdown",
   "metadata": {},
   "source": [
    "### Split data into separate fitting and test set"
   ]
  },
  {
   "cell_type": "code",
   "execution_count": 99,
   "metadata": {},
   "outputs": [],
   "source": [
    "# Split the dataset into fitting data (80%) and test set (20%)\n",
    "X_fit, X_test, y_fit, y_test = train_test_split(X, y, test_size=0.2, random_state=1)\n"
   ]
  },
  {
   "cell_type": "code",
   "execution_count": 100,
   "metadata": {},
   "outputs": [
    {
     "name": "stdout",
     "output_type": "stream",
     "text": [
      "<class 'pandas.core.frame.DataFrame'>\n",
      "Int64Index: 36177 entries, 4727 to 35636\n",
      "Data columns (total 13 columns):\n",
      " #   Column          Non-Null Count  Dtype \n",
      "---  ------          --------------  ----- \n",
      " 0   age             36177 non-null  int64 \n",
      " 1   workclass       36177 non-null  object\n",
      " 2   fnlwgt          36177 non-null  int64 \n",
      " 3   education-num   36177 non-null  int64 \n",
      " 4   marital-status  36177 non-null  object\n",
      " 5   occupation      36177 non-null  object\n",
      " 6   relationship    36177 non-null  object\n",
      " 7   race            36177 non-null  object\n",
      " 8   sex             36177 non-null  object\n",
      " 9   capital-gain    36177 non-null  int64 \n",
      " 10  capital-loss    36177 non-null  int64 \n",
      " 11  hours-per-week  36177 non-null  int64 \n",
      " 12  native-country  36177 non-null  object\n",
      "dtypes: int64(6), object(7)\n",
      "memory usage: 3.9+ MB\n"
     ]
    }
   ],
   "source": [
    "X_fit.info()"
   ]
  },
  {
   "cell_type": "markdown",
   "metadata": {},
   "source": [
    "#### The percentage of each class in the target variable for each set"
   ]
  },
  {
   "cell_type": "code",
   "execution_count": 101,
   "metadata": {},
   "outputs": [],
   "source": [
    "# Defined a function to calculate  and print the percentage of each class in the target variable\n",
    "def calculate_class_percentage(y):\n",
    "    class_percentage = {}\n",
    "    total_samples = len(y)\n",
    "    unique_classes = set(y)\n",
    "    \n",
    "    for cls in unique_classes:\n",
    "        class_count = sum(y == cls)\n",
    "        percentage = (class_count / total_samples) * 100\n",
    "        class_percentage[cls] = percentage\n",
    "    \n",
    "    return class_percentage"
   ]
  },
  {
   "cell_type": "code",
   "execution_count": 102,
   "metadata": {},
   "outputs": [
    {
     "name": "stdout",
     "output_type": "stream",
     "text": [
      "Fit set class percentages:\n",
      "{0: 75.26328882991956, 1: 24.73671117008044}\n",
      "\n",
      "Test set class percentages:\n",
      "{0: 75.02487562189056, 1: 24.975124378109452}\n",
      "\n",
      " Number of rows of X fit 36177 \n",
      " Number of rows of X test 9045 \n",
      " Number of rows of Y fit 36177 \n",
      " Number of rows of y test 9045\n"
     ]
    }
   ],
   "source": [
    "# Calculate class percentages for each dataset\n",
    "fit_class_percentage = calculate_class_percentage(y_fit)\n",
    "test_class_percentage = calculate_class_percentage(y_test)\n",
    "\n",
    "# Print class percentages for each dataset\n",
    "print(\"Fit set class percentages:\")\n",
    "print(fit_class_percentage )\n",
    "print(\"\\nTest set class percentages:\")\n",
    "print(test_class_percentage)\n",
    "print('\\n Number of rows of X fit', X_fit.shape[0], '\\n Number of rows of X test', X_test.shape[0],'\\n Number of rows of Y fit', y_fit.shape[0],'\\n Number of rows of y test', y_test.shape[0],)\n"
   ]
  },
  {
   "cell_type": "code",
   "execution_count": 103,
   "metadata": {},
   "outputs": [
    {
     "name": "stdout",
     "output_type": "stream",
     "text": [
      "<class 'pandas.core.frame.DataFrame'>\n",
      "Int64Index: 36177 entries, 4727 to 35636\n",
      "Data columns (total 13 columns):\n",
      " #   Column          Non-Null Count  Dtype \n",
      "---  ------          --------------  ----- \n",
      " 0   age             36177 non-null  int64 \n",
      " 1   workclass       36177 non-null  object\n",
      " 2   fnlwgt          36177 non-null  int64 \n",
      " 3   education-num   36177 non-null  int64 \n",
      " 4   marital-status  36177 non-null  object\n",
      " 5   occupation      36177 non-null  object\n",
      " 6   relationship    36177 non-null  object\n",
      " 7   race            36177 non-null  object\n",
      " 8   sex             36177 non-null  object\n",
      " 9   capital-gain    36177 non-null  int64 \n",
      " 10  capital-loss    36177 non-null  int64 \n",
      " 11  hours-per-week  36177 non-null  int64 \n",
      " 12  native-country  36177 non-null  object\n",
      "dtypes: int64(6), object(7)\n",
      "memory usage: 3.9+ MB\n"
     ]
    }
   ],
   "source": [
    "X_fit.info()"
   ]
  },
  {
   "cell_type": "code",
   "execution_count": 104,
   "metadata": {},
   "outputs": [
    {
     "name": "stderr",
     "output_type": "stream",
     "text": [
      "C:\\Users\\dideu\\AppData\\Local\\Temp\\ipykernel_10712\\4117849537.py:4: DeprecationWarning: In a future version, `df.iloc[:, i] = newvals` will attempt to set the values inplace instead of always setting a new array. To retain the old behavior, use either `df[df.columns[i]] = newvals` or, if columns are non-unique, `df.isetitem(i, newvals)`\n",
      "  X_fit.iloc[:, 1] = LE.fit_transform(X_fit.iloc[:, 1]) # Workclass column\n",
      "C:\\Users\\dideu\\AppData\\Local\\Temp\\ipykernel_10712\\4117849537.py:5: DeprecationWarning: In a future version, `df.iloc[:, i] = newvals` will attempt to set the values inplace instead of always setting a new array. To retain the old behavior, use either `df[df.columns[i]] = newvals` or, if columns are non-unique, `df.isetitem(i, newvals)`\n",
      "  X_test.iloc[:, 1] = LE.transform(X_test.iloc[:, 1])\n"
     ]
    }
   ],
   "source": [
    "# Label encoding for ordinal categorical variables. First fitting and transforming on fit set and then transforming on test set\n",
    "LE = LabelEncoder()\n",
    "\n",
    "X_fit.iloc[:, 1] = LE.fit_transform(X_fit.iloc[:, 1]) # Workclass column\n",
    "X_test.iloc[:, 1] = LE.transform(X_test.iloc[:, 1])\n"
   ]
  },
  {
   "cell_type": "markdown",
   "metadata": {},
   "source": [
    "### Define One-hot-encoding function for the chosen variables, or dummification "
   ]
  },
  {
   "cell_type": "code",
   "execution_count": 105,
   "metadata": {},
   "outputs": [],
   "source": [
    "def one_hot_encode_columns(X_fit, X_test, columns_to_one_hot_encode):\n",
    "    # Create a OneHotEncoder instance\n",
    "    one_hot_encoder = OneHotEncoder(sparse=False)\n",
    "    \n",
    "    # Apply one-hot encoding to the training dataset\n",
    "    one_hot_encoded_columns_train = one_hot_encoder.fit_transform(X_fit[columns_to_one_hot_encode])\n",
    "    # Apply the same transformation to the test dataset\n",
    "    one_hot_encoded_columns_test = one_hot_encoder.transform(X_test[columns_to_one_hot_encode])\n",
    "\n",
    "    # Convert the one-hot encoded columns to a DataFrame\n",
    "    one_hot_encoded_df_train = pd.DataFrame(one_hot_encoded_columns_train, columns=one_hot_encoder.get_feature_names_out(columns_to_one_hot_encode))\n",
    "    # Convert the one-hot encoded columns to a DataFrame\n",
    "    one_hot_encoded_df_test = pd.DataFrame(one_hot_encoded_columns_test, columns=one_hot_encoder.get_feature_names_out(columns_to_one_hot_encode))\n",
    "\n",
    "    # Drop the original columns from X_train\n",
    "    X_fit.drop(columns_to_one_hot_encode, axis=1, inplace=True)\n",
    "    # Drop the original columns from X_test\n",
    "    X_test.drop(columns_to_one_hot_encode, axis=1, inplace=True)\n",
    "\n",
    "    # Concatenate the original DataFrame with the one-hot encoded DataFrame\n",
    "    X_fit = pd.concat([X_fit.reset_index(drop=True), one_hot_encoded_df_train.reset_index(drop=True)], axis=1)\n",
    "    # Concatenate the original DataFrame with the one-hot encoded DataFrame\n",
    "    X_test = pd.concat([X_test.reset_index(drop=True), one_hot_encoded_df_test.reset_index(drop=True)], axis=1)\n",
    "    \n",
    "    return X_fit, X_test\n"
   ]
  },
  {
   "cell_type": "code",
   "execution_count": 106,
   "metadata": {},
   "outputs": [
    {
     "name": "stderr",
     "output_type": "stream",
     "text": [
      "c:\\Users\\dideu\\anaconda3\\envs\\banana\\lib\\site-packages\\sklearn\\preprocessing\\_encoders.py:975: FutureWarning: `sparse` was renamed to `sparse_output` in version 1.2 and will be removed in 1.4. `sparse_output` is ignored unless you leave `sparse` to its default value.\n",
      "  warnings.warn(\n"
     ]
    }
   ],
   "source": [
    "# Identify columns that are not ordinal and need one-hot encoding\n",
    "columns_to_one_hot_encode = ['marital-status', 'occupation',  'relationship', 'race', 'sex', 'native-country'] # List of non-ordinal columns\n",
    "\n",
    "# Apply one-hot encoding to the fit and test datasets\n",
    "X_fit, X_test = one_hot_encode_columns(X_fit, X_test, columns_to_one_hot_encode)"
   ]
  },
  {
   "cell_type": "code",
   "execution_count": 107,
   "metadata": {},
   "outputs": [
    {
     "name": "stdout",
     "output_type": "stream",
     "text": [
      "<class 'pandas.core.frame.DataFrame'>\n",
      "RangeIndex: 36177 entries, 0 to 36176\n",
      "Data columns (total 82 columns):\n",
      " #   Column                                     Non-Null Count  Dtype  \n",
      "---  ------                                     --------------  -----  \n",
      " 0   age                                        36177 non-null  int64  \n",
      " 1   workclass                                  36177 non-null  int32  \n",
      " 2   fnlwgt                                     36177 non-null  int64  \n",
      " 3   education-num                              36177 non-null  int64  \n",
      " 4   capital-gain                               36177 non-null  int64  \n",
      " 5   capital-loss                               36177 non-null  int64  \n",
      " 6   hours-per-week                             36177 non-null  int64  \n",
      " 7   marital-status_Divorced                    36177 non-null  float64\n",
      " 8   marital-status_Married-AF-spouse           36177 non-null  float64\n",
      " 9   marital-status_Married-civ-spouse          36177 non-null  float64\n",
      " 10  marital-status_Married-spouse-absent       36177 non-null  float64\n",
      " 11  marital-status_Never-married               36177 non-null  float64\n",
      " 12  marital-status_Separated                   36177 non-null  float64\n",
      " 13  marital-status_Widowed                     36177 non-null  float64\n",
      " 14  occupation_Adm-clerical                    36177 non-null  float64\n",
      " 15  occupation_Armed-Forces                    36177 non-null  float64\n",
      " 16  occupation_Craft-repair                    36177 non-null  float64\n",
      " 17  occupation_Exec-managerial                 36177 non-null  float64\n",
      " 18  occupation_Farming-fishing                 36177 non-null  float64\n",
      " 19  occupation_Handlers-cleaners               36177 non-null  float64\n",
      " 20  occupation_Machine-op-inspct               36177 non-null  float64\n",
      " 21  occupation_Other-service                   36177 non-null  float64\n",
      " 22  occupation_Priv-house-serv                 36177 non-null  float64\n",
      " 23  occupation_Prof-specialty                  36177 non-null  float64\n",
      " 24  occupation_Protective-serv                 36177 non-null  float64\n",
      " 25  occupation_Sales                           36177 non-null  float64\n",
      " 26  occupation_Tech-support                    36177 non-null  float64\n",
      " 27  occupation_Transport-moving                36177 non-null  float64\n",
      " 28  relationship_Husband                       36177 non-null  float64\n",
      " 29  relationship_Not-in-family                 36177 non-null  float64\n",
      " 30  relationship_Other-relative                36177 non-null  float64\n",
      " 31  relationship_Own-child                     36177 non-null  float64\n",
      " 32  relationship_Unmarried                     36177 non-null  float64\n",
      " 33  relationship_Wife                          36177 non-null  float64\n",
      " 34  race_Amer-Indian-Eskimo                    36177 non-null  float64\n",
      " 35  race_Asian-Pac-Islander                    36177 non-null  float64\n",
      " 36  race_Black                                 36177 non-null  float64\n",
      " 37  race_Other                                 36177 non-null  float64\n",
      " 38  race_White                                 36177 non-null  float64\n",
      " 39  sex_Female                                 36177 non-null  float64\n",
      " 40  sex_Male                                   36177 non-null  float64\n",
      " 41  native-country_Cambodia                    36177 non-null  float64\n",
      " 42  native-country_Canada                      36177 non-null  float64\n",
      " 43  native-country_China                       36177 non-null  float64\n",
      " 44  native-country_Columbia                    36177 non-null  float64\n",
      " 45  native-country_Cuba                        36177 non-null  float64\n",
      " 46  native-country_Dominican-Republic          36177 non-null  float64\n",
      " 47  native-country_Ecuador                     36177 non-null  float64\n",
      " 48  native-country_El-Salvador                 36177 non-null  float64\n",
      " 49  native-country_England                     36177 non-null  float64\n",
      " 50  native-country_France                      36177 non-null  float64\n",
      " 51  native-country_Germany                     36177 non-null  float64\n",
      " 52  native-country_Greece                      36177 non-null  float64\n",
      " 53  native-country_Guatemala                   36177 non-null  float64\n",
      " 54  native-country_Haiti                       36177 non-null  float64\n",
      " 55  native-country_Holand-Netherlands          36177 non-null  float64\n",
      " 56  native-country_Honduras                    36177 non-null  float64\n",
      " 57  native-country_Hong                        36177 non-null  float64\n",
      " 58  native-country_Hungary                     36177 non-null  float64\n",
      " 59  native-country_India                       36177 non-null  float64\n",
      " 60  native-country_Iran                        36177 non-null  float64\n",
      " 61  native-country_Ireland                     36177 non-null  float64\n",
      " 62  native-country_Italy                       36177 non-null  float64\n",
      " 63  native-country_Jamaica                     36177 non-null  float64\n",
      " 64  native-country_Japan                       36177 non-null  float64\n",
      " 65  native-country_Laos                        36177 non-null  float64\n",
      " 66  native-country_Mexico                      36177 non-null  float64\n",
      " 67  native-country_Nicaragua                   36177 non-null  float64\n",
      " 68  native-country_Outlying-US(Guam-USVI-etc)  36177 non-null  float64\n",
      " 69  native-country_Peru                        36177 non-null  float64\n",
      " 70  native-country_Philippines                 36177 non-null  float64\n",
      " 71  native-country_Poland                      36177 non-null  float64\n",
      " 72  native-country_Portugal                    36177 non-null  float64\n",
      " 73  native-country_Puerto-Rico                 36177 non-null  float64\n",
      " 74  native-country_Scotland                    36177 non-null  float64\n",
      " 75  native-country_South                       36177 non-null  float64\n",
      " 76  native-country_Taiwan                      36177 non-null  float64\n",
      " 77  native-country_Thailand                    36177 non-null  float64\n",
      " 78  native-country_Trinadad&Tobago             36177 non-null  float64\n",
      " 79  native-country_United-States               36177 non-null  float64\n",
      " 80  native-country_Vietnam                     36177 non-null  float64\n",
      " 81  native-country_Yugoslavia                  36177 non-null  float64\n",
      "dtypes: float64(75), int32(1), int64(6)\n",
      "memory usage: 22.5 MB\n"
     ]
    }
   ],
   "source": [
    "X_fit.info()"
   ]
  },
  {
   "cell_type": "code",
   "execution_count": 108,
   "metadata": {},
   "outputs": [
    {
     "name": "stdout",
     "output_type": "stream",
     "text": [
      "Fit set class percentages:\n",
      "{0: 75.26328882991956, 1: 24.73671117008044}\n",
      "\n",
      "Test set class percentages:\n",
      "{0: 75.02487562189056, 1: 24.975124378109452}\n",
      "\n",
      " Number of rows of X fit 36177 \n",
      " Number of rows of X test 9045 \n",
      " Number of rows of Y fit 36177 \n",
      " Number of rows of y test 9045\n"
     ]
    }
   ],
   "source": [
    "# Calculate class percentages for each dataset\n",
    "fit_class_percentage = calculate_class_percentage(y_fit)\n",
    "test_class_percentage = calculate_class_percentage(y_test)\n",
    "\n",
    "# Print class percentages for each dataset\n",
    "print(\"Fit set class percentages:\")\n",
    "print(fit_class_percentage )\n",
    "print(\"\\nTest set class percentages:\")\n",
    "print(test_class_percentage)\n",
    "print('\\n Number of rows of X fit', X_fit.shape[0], '\\n Number of rows of X test', X_test.shape[0],'\\n Number of rows of Y fit', y_fit.shape[0],'\\n Number of rows of y test', y_test.shape[0],)\n"
   ]
  },
  {
   "cell_type": "markdown",
   "metadata": {},
   "source": []
  },
  {
   "cell_type": "code",
   "execution_count": 109,
   "metadata": {},
   "outputs": [],
   "source": [
    "# Save data to a pickle file\n",
    "with open('data.pickle', 'wb') as f:\n",
    "    pickle.dump((X_fit, y_fit, X_test, y_test), f)"
   ]
  }
 ],
 "metadata": {
  "kernelspec": {
   "display_name": "banana",
   "language": "python",
   "name": "python3"
  },
  "language_info": {
   "codemirror_mode": {
    "name": "ipython",
    "version": 3
   },
   "file_extension": ".py",
   "mimetype": "text/x-python",
   "name": "python",
   "nbconvert_exporter": "python",
   "pygments_lexer": "ipython3",
   "version": "3.10.0"
  }
 },
 "nbformat": 4,
 "nbformat_minor": 2
}
