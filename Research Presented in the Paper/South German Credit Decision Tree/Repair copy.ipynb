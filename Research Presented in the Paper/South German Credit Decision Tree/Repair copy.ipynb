{
 "cells": [
  {
   "cell_type": "markdown",
   "metadata": {},
   "source": [
    "Repair"
   ]
  },
  {
   "cell_type": "markdown",
   "metadata": {},
   "source": [
    "# Cleaning"
   ]
  },
  {
   "cell_type": "code",
   "execution_count": 14,
   "metadata": {},
   "outputs": [],
   "source": [
    "import pandas as pd\n",
    "import numpy as np\n",
    "\n",
    "from sklearn import preprocessing\n",
    "import matplotlib.pyplot as plt"
   ]
  },
  {
   "cell_type": "code",
   "execution_count": 15,
   "metadata": {},
   "outputs": [],
   "source": [
    "#read the file\n",
    "df = pd.read_csv(\"german_credit.csv\")\n"
   ]
  },
  {
   "cell_type": "code",
   "execution_count": 16,
   "metadata": {},
   "outputs": [
    {
     "name": "stderr",
     "output_type": "stream",
     "text": [
      "C:\\Users\\dideu\\AppData\\Local\\Temp\\ipykernel_11616\\1885772212.py:1: FutureWarning: The default value of regex will change from True to False in a future version.\n",
      "  df['status'] = df['status'].str.replace('... >= 200 DM / salary for at least 1 year', '0')\n",
      "C:\\Users\\dideu\\AppData\\Local\\Temp\\ipykernel_11616\\1885772212.py:3: FutureWarning: The default value of regex will change from True to False in a future version.\n",
      "  df['status'] = df['status'].str.replace('... < 0 DM', '2')\n",
      "C:\\Users\\dideu\\AppData\\Local\\Temp\\ipykernel_11616\\1885772212.py:4: FutureWarning: The default value of regex will change from True to False in a future version.\n",
      "  df['status'] = df['status'].str.replace('0<= ... < 200 DM', '3')\n"
     ]
    }
   ],
   "source": [
    "df['status'] = df['status'].str.replace('... >= 200 DM / salary for at least 1 year', '0')\n",
    "df['status'] = df['status'].str.replace('no checking account', '1')\n",
    "df['status'] = df['status'].str.replace('... < 0 DM', '2')\n",
    "df['status'] = df['status'].str.replace('0<= ... < 200 DM', '3')"
   ]
  },
  {
   "cell_type": "code",
   "execution_count": 17,
   "metadata": {},
   "outputs": [
    {
     "name": "stderr",
     "output_type": "stream",
     "text": [
      "C:\\Users\\dideu\\AppData\\Local\\Temp\\ipykernel_11616\\4242266004.py:2: FutureWarning: The default value of regex will change from True to False in a future version.\n",
      "  df['installment_rate'] = df['installment_rate'].str.replace('20 <= ... < 25', '1')\n",
      "C:\\Users\\dideu\\AppData\\Local\\Temp\\ipykernel_11616\\4242266004.py:3: FutureWarning: The default value of regex will change from True to False in a future version.\n",
      "  df['installment_rate'] = df['installment_rate'].str.replace('25 <= ... < 35', '2')\n"
     ]
    }
   ],
   "source": [
    "df['installment_rate'] = df['installment_rate'].str.replace('< 20', '0')\n",
    "df['installment_rate'] = df['installment_rate'].str.replace('20 <= ... < 25', '1')\n",
    "df['installment_rate'] = df['installment_rate'].str.replace('25 <= ... < 35', '2')\n",
    "df['installment_rate'] = df['installment_rate'].str.replace('>= 35', '3')"
   ]
  },
  {
   "cell_type": "code",
   "execution_count": 18,
   "metadata": {},
   "outputs": [
    {
     "name": "stderr",
     "output_type": "stream",
     "text": [
      "C:\\Users\\dideu\\AppData\\Local\\Temp\\ipykernel_11616\\1649882530.py:4: FutureWarning: The default value of regex will change from True to False in a future version.\n",
      "  df['employment_duration'] = df['employment_duration'].str.replace('1 <= ... < 4 yrs', '2')\n",
      "C:\\Users\\dideu\\AppData\\Local\\Temp\\ipykernel_11616\\1649882530.py:5: FutureWarning: The default value of regex will change from True to False in a future version.\n",
      "  df['employment_duration'] = df['employment_duration'].str.replace('4 <= ... < 7 yrs', '3')\n"
     ]
    }
   ],
   "source": [
    "# Replace the values in the target column with string '0' and '1'.\n",
    "df['employment_duration'] = df['employment_duration'].str.replace('< 1 yr', '1')  \n",
    "df['employment_duration'] = df['employment_duration'].str.replace('unemployed' , '0') \n",
    "df['employment_duration'] = df['employment_duration'].str.replace('1 <= ... < 4 yrs', '2')\n",
    "df['employment_duration'] = df['employment_duration'].str.replace('4 <= ... < 7 yrs', '3')\n",
    "df['employment_duration'] = df['employment_duration'].str.replace('>= 7 yrs', '4')"
   ]
  },
  {
   "cell_type": "code",
   "execution_count": 19,
   "metadata": {},
   "outputs": [
    {
     "name": "stderr",
     "output_type": "stream",
     "text": [
      "C:\\Users\\dideu\\AppData\\Local\\Temp\\ipykernel_11616\\434360399.py:2: FutureWarning: The default value of regex will change from True to False in a future version.\n",
      "  df['present_residence'] = df['present_residence'].str.replace('4 <= ... < 7 yrs', '1')\n",
      "C:\\Users\\dideu\\AppData\\Local\\Temp\\ipykernel_11616\\434360399.py:3: FutureWarning: The default value of regex will change from True to False in a future version.\n",
      "  df['present_residence'] = df['present_residence'].str.replace('1 <= ... < 4 yrs', '2')\n"
     ]
    }
   ],
   "source": [
    "df['present_residence'] = df['present_residence'].str.replace('>= 7 yrs', '0')\n",
    "df['present_residence'] = df['present_residence'].str.replace('4 <= ... < 7 yrs', '1')\n",
    "df['present_residence'] = df['present_residence'].str.replace('1 <= ... < 4 yrs', '2')\n",
    "df['present_residence'] = df['present_residence'].str.replace('< 1 yr', '3')"
   ]
  },
  {
   "cell_type": "code",
   "execution_count": 20,
   "metadata": {},
   "outputs": [],
   "source": [
    "df['installment_rate'] = df['installment_rate'].astype(int)\n",
    "df['employment_duration'] = df['employment_duration'].astype(int)\n",
    "df['present_residence'] = df['present_residence'].astype(int)\n",
    "df['status'] = df['status'].astype(int)"
   ]
  },
  {
   "cell_type": "code",
   "execution_count": 21,
   "metadata": {},
   "outputs": [],
   "source": [
    "# Replace the values in the target column with string '0' and '1'.\n",
    "df['credit_risk'] = df['credit_risk'].str.replace('bad', '0')  \n",
    "df['credit_risk'] = df['credit_risk'].str.replace('good', '1')   \n",
    "\n",
    "# Convert to integer\n",
    "df['credit_risk'] = df['credit_risk'].astype(int)"
   ]
  },
  {
   "cell_type": "markdown",
   "metadata": {},
   "source": [
    "# Plots for creating feature importance plot"
   ]
  },
  {
   "cell_type": "code",
   "execution_count": 22,
   "metadata": {},
   "outputs": [],
   "source": [
    "auc_df = pd.read_excel('Performance_metrics\\model_perf_metrics_mean_of_iterations_10_20_30_40_50.xlsx')\n",
    "auc_onlycf_df = pd.read_excel('Performance_metrics\\model_perf_metrics_mean_of_iterations_only_with_cfs_10_20_30_40_50.xlsx')"
   ]
  },
  {
   "cell_type": "code",
   "execution_count": 23,
   "metadata": {},
   "outputs": [
    {
     "data": {
      "text/html": [
       "<div>\n",
       "<style scoped>\n",
       "    .dataframe tbody tr th:only-of-type {\n",
       "        vertical-align: middle;\n",
       "    }\n",
       "\n",
       "    .dataframe tbody tr th {\n",
       "        vertical-align: top;\n",
       "    }\n",
       "\n",
       "    .dataframe thead th {\n",
       "        text-align: right;\n",
       "    }\n",
       "</style>\n",
       "<table border=\"1\" class=\"dataframe\">\n",
       "  <thead>\n",
       "    <tr style=\"text-align: right;\">\n",
       "      <th></th>\n",
       "      <th>Unnamed: 0</th>\n",
       "      <th>Model</th>\n",
       "      <th>Iteration</th>\n",
       "      <th>Sample Size</th>\n",
       "      <th>CF Num</th>\n",
       "      <th>X_fit Size</th>\n",
       "      <th>F1 (%)</th>\n",
       "      <th>F1 (%)_std</th>\n",
       "      <th>AUC (%)</th>\n",
       "      <th>AUC (%)_std</th>\n",
       "    </tr>\n",
       "  </thead>\n",
       "  <tbody>\n",
       "    <tr>\n",
       "      <th>0</th>\n",
       "      <td>0</td>\n",
       "      <td>RF_default_mean_of_iterations</td>\n",
       "      <td>5</td>\n",
       "      <td>0</td>\n",
       "      <td>0</td>\n",
       "      <td>700</td>\n",
       "      <td>0.849991</td>\n",
       "      <td>0.009973</td>\n",
       "      <td>0.674289</td>\n",
       "      <td>0.020535</td>\n",
       "    </tr>\n",
       "    <tr>\n",
       "      <th>1</th>\n",
       "      <td>1</td>\n",
       "      <td>RF_simp_mean_of_iterations</td>\n",
       "      <td>5</td>\n",
       "      <td>0</td>\n",
       "      <td>0</td>\n",
       "      <td>700</td>\n",
       "      <td>0.832999</td>\n",
       "      <td>0.001972</td>\n",
       "      <td>0.560760</td>\n",
       "      <td>0.006408</td>\n",
       "    </tr>\n",
       "    <tr>\n",
       "      <th>2</th>\n",
       "      <td>2</td>\n",
       "      <td>DT_default_mean_of_iterations</td>\n",
       "      <td>5</td>\n",
       "      <td>0</td>\n",
       "      <td>0</td>\n",
       "      <td>700</td>\n",
       "      <td>0.782087</td>\n",
       "      <td>0.009211</td>\n",
       "      <td>0.674694</td>\n",
       "      <td>0.006757</td>\n",
       "    </tr>\n",
       "    <tr>\n",
       "      <th>3</th>\n",
       "      <td>3</td>\n",
       "      <td>DT_sample:100_cf:1_mean_of_5_iterations</td>\n",
       "      <td>5</td>\n",
       "      <td>100</td>\n",
       "      <td>1</td>\n",
       "      <td>800</td>\n",
       "      <td>0.770619</td>\n",
       "      <td>0.014281</td>\n",
       "      <td>0.640007</td>\n",
       "      <td>0.027297</td>\n",
       "    </tr>\n",
       "    <tr>\n",
       "      <th>4</th>\n",
       "      <td>4</td>\n",
       "      <td>DT_sample:100_cf:2_mean_of_5_iterations</td>\n",
       "      <td>5</td>\n",
       "      <td>100</td>\n",
       "      <td>2</td>\n",
       "      <td>900</td>\n",
       "      <td>0.765258</td>\n",
       "      <td>0.013337</td>\n",
       "      <td>0.635701</td>\n",
       "      <td>0.032893</td>\n",
       "    </tr>\n",
       "    <tr>\n",
       "      <th>5</th>\n",
       "      <td>5</td>\n",
       "      <td>DT_sample:200_cf:1_mean_of_5_iterations</td>\n",
       "      <td>5</td>\n",
       "      <td>200</td>\n",
       "      <td>1</td>\n",
       "      <td>900</td>\n",
       "      <td>0.779776</td>\n",
       "      <td>0.016837</td>\n",
       "      <td>0.643604</td>\n",
       "      <td>0.021126</td>\n",
       "    </tr>\n",
       "    <tr>\n",
       "      <th>6</th>\n",
       "      <td>6</td>\n",
       "      <td>DT_sample:200_cf:2_mean_of_5_iterations</td>\n",
       "      <td>5</td>\n",
       "      <td>200</td>\n",
       "      <td>2</td>\n",
       "      <td>1100</td>\n",
       "      <td>0.790244</td>\n",
       "      <td>0.010498</td>\n",
       "      <td>0.663915</td>\n",
       "      <td>0.021255</td>\n",
       "    </tr>\n",
       "    <tr>\n",
       "      <th>7</th>\n",
       "      <td>7</td>\n",
       "      <td>DT_sample:296_cf:1_mean_of_5_iterations</td>\n",
       "      <td>5</td>\n",
       "      <td>296</td>\n",
       "      <td>1</td>\n",
       "      <td>996</td>\n",
       "      <td>0.780948</td>\n",
       "      <td>0.006513</td>\n",
       "      <td>0.645181</td>\n",
       "      <td>0.015648</td>\n",
       "    </tr>\n",
       "    <tr>\n",
       "      <th>8</th>\n",
       "      <td>8</td>\n",
       "      <td>DT_sample:296_cf:2_mean_of_5_iterations</td>\n",
       "      <td>5</td>\n",
       "      <td>296</td>\n",
       "      <td>2</td>\n",
       "      <td>1292</td>\n",
       "      <td>0.814170</td>\n",
       "      <td>0.006968</td>\n",
       "      <td>0.677612</td>\n",
       "      <td>0.021367</td>\n",
       "    </tr>\n",
       "  </tbody>\n",
       "</table>\n",
       "</div>"
      ],
      "text/plain": [
       "   Unnamed: 0                                    Model  Iteration  \\\n",
       "0           0            RF_default_mean_of_iterations          5   \n",
       "1           1               RF_simp_mean_of_iterations          5   \n",
       "2           2            DT_default_mean_of_iterations          5   \n",
       "3           3  DT_sample:100_cf:1_mean_of_5_iterations          5   \n",
       "4           4  DT_sample:100_cf:2_mean_of_5_iterations          5   \n",
       "5           5  DT_sample:200_cf:1_mean_of_5_iterations          5   \n",
       "6           6  DT_sample:200_cf:2_mean_of_5_iterations          5   \n",
       "7           7  DT_sample:296_cf:1_mean_of_5_iterations          5   \n",
       "8           8  DT_sample:296_cf:2_mean_of_5_iterations          5   \n",
       "\n",
       "   Sample Size  CF Num  X_fit Size    F1 (%)  F1 (%)_std   AUC (%)  \\\n",
       "0            0       0         700  0.849991    0.009973  0.674289   \n",
       "1            0       0         700  0.832999    0.001972  0.560760   \n",
       "2            0       0         700  0.782087    0.009211  0.674694   \n",
       "3          100       1         800  0.770619    0.014281  0.640007   \n",
       "4          100       2         900  0.765258    0.013337  0.635701   \n",
       "5          200       1         900  0.779776    0.016837  0.643604   \n",
       "6          200       2        1100  0.790244    0.010498  0.663915   \n",
       "7          296       1         996  0.780948    0.006513  0.645181   \n",
       "8          296       2        1292  0.814170    0.006968  0.677612   \n",
       "\n",
       "   AUC (%)_std  \n",
       "0     0.020535  \n",
       "1     0.006408  \n",
       "2     0.006757  \n",
       "3     0.027297  \n",
       "4     0.032893  \n",
       "5     0.021126  \n",
       "6     0.021255  \n",
       "7     0.015648  \n",
       "8     0.021367  "
      ]
     },
     "execution_count": 23,
     "metadata": {},
     "output_type": "execute_result"
    }
   ],
   "source": [
    "auc_df.head(10)"
   ]
  },
  {
   "cell_type": "code",
   "execution_count": 24,
   "metadata": {},
   "outputs": [],
   "source": [
    "# Get the AUC score for the LR default model\n",
    "lr_default_auc =  auc_df[auc_df['Model'].str.startswith('DT_default')]['AUC (%)'].iloc[0]\n",
    "auc_scores = auc_df['AUC (%)'][3:].tolist()\n",
    "\n",
    "rf_default_auc =  auc_df[auc_df['Model'].str.startswith('RF_default')]['AUC (%)'].iloc[0]\n",
    "\n",
    "lr_default_auc_cf =  auc_onlycf_df[auc_onlycf_df['Model'].str.startswith('DT_default')]['AUC (%)'].iloc[0]\n",
    "auc_scores_cf = auc_onlycf_df['AUC (%)'][3:].tolist()\n",
    "\n"
   ]
  },
  {
   "cell_type": "code",
   "execution_count": 25,
   "metadata": {},
   "outputs": [],
   "source": [
    "from scipy.stats import ks_2samp\n",
    "import pandas as pd\n",
    "\n",
    "def ks_test_all_features(original_df, cf_df):\n",
    "    results = {}\n",
    "    # Iterate over columns in the original dataframe\n",
    "    for column in original_df.columns:\n",
    "        # Check if the column exists in the counterfactual dataframe and both columns are not empty\n",
    "            # Apply the KS test\n",
    "        stat, p_value = ks_2samp(original_df[column].dropna(), cf_df[column].dropna())\n",
    "        results[column] = {'KS Statistic': stat}\n",
    "\n",
    "    return results\n",
    "\n"
   ]
  },
  {
   "cell_type": "code",
   "execution_count": 26,
   "metadata": {},
   "outputs": [],
   "source": [
    "list_1 = [100,200,296]\n",
    "list_2 = [1, 2]\n",
    "\n",
    "list_3 = [1,2,3,4,5] #iterations"
   ]
  },
  {
   "cell_type": "code",
   "execution_count": 27,
   "metadata": {},
   "outputs": [],
   "source": [
    "ks_results_list = [] \n",
    "for i in list_1:\n",
    "    for t in list_2:\n",
    "        for z in list_3:\n",
    "            df_cf = pd.read_csv('Generated_CFs/cf_df_{}_{}_{}.csv'.format(i,t, z), index_col=0)\n",
    "            start_index = 1 + len(df)  # Calculate the starting index\n",
    "            new_index = range(start_index, start_index + len(df_cf))  # Create a new index starting from start_index\n",
    "            df_cf_reset = df_cf.copy()  # Create a copy of the DataFrame\n",
    "            df_cf_reset.index = new_index  # Set the new index\n",
    "            df_cf = df_cf_reset # Assign the new indexed DataFrame to the original DataFrame\n",
    "            ks_results = ks_test_all_features(df, df_cf)\n",
    "            ks_results_df = pd.DataFrame(ks_results).T\n",
    "            mean_ks_statistic = ks_results_df['KS Statistic'].mean()\n",
    "            ks_results_list.append(mean_ks_statistic)"
   ]
  },
  {
   "cell_type": "code",
   "execution_count": 28,
   "metadata": {},
   "outputs": [
    {
     "data": {
      "text/plain": [
       "[0.06580952380952382,\n",
       " 0.06519047619047619,\n",
       " 0.07628571428571428,\n",
       " 0.0699047619047619,\n",
       " 0.07357142857142857,\n",
       " 0.06514285714285714,\n",
       " 0.0764285714285714,\n",
       " 0.073,\n",
       " 0.07166666666666666,\n",
       " 0.06766666666666665,\n",
       " 0.07257142857142856,\n",
       " 0.07038095238095239,\n",
       " 0.06709523809523808,\n",
       " 0.06476190476190476,\n",
       " 0.07023809523809524,\n",
       " 0.06307142857142857,\n",
       " 0.07052380952380953,\n",
       " 0.06723809523809525,\n",
       " 0.0714047619047619,\n",
       " 0.06573809523809523,\n",
       " 0.06032432432432433,\n",
       " 0.06034749034749034,\n",
       " 0.06326383526383525,\n",
       " 0.057844272844272834,\n",
       " 0.05882625482625482,\n",
       " 0.06315765765765764,\n",
       " 0.06124517374517374,\n",
       " 0.06079536679536678,\n",
       " 0.06237516087516088,\n",
       " 0.06086357786357785]"
      ]
     },
     "execution_count": 28,
     "metadata": {},
     "output_type": "execute_result"
    }
   ],
   "source": [
    "ks_results_list"
   ]
  },
  {
   "cell_type": "markdown",
   "metadata": {},
   "source": [
    "getting the average of every iteration"
   ]
  },
  {
   "cell_type": "code",
   "execution_count": 29,
   "metadata": {},
   "outputs": [
    {
     "name": "stdout",
     "output_type": "stream",
     "text": [
      "[0.07015238095238095, 0.07078095238095236, 0.06900952380952381, 0.06759523809523811, 0.060121235521235515, 0.06168738738738737]\n"
     ]
    }
   ],
   "source": [
    "# Create a new list that gets the means of every 5 number\n",
    "new_list = [(ks_results_list[i] + ks_results_list[i + 1]+ ks_results_list[i + 2] + ks_results_list[i + 3] + ks_results_list[i + 4] ) / 5 for i in range(0, len(ks_results_list) - 1, 5)]\n",
    "\n",
    "\n",
    "# Print the new list\n",
    "print(new_list)\n",
    "ks_results_list = new_list.copy()"
   ]
  },
  {
   "cell_type": "code",
   "execution_count": 36,
   "metadata": {},
   "outputs": [
    {
     "data": {
      "image/png": "[encoded data removed]",
      "text/plain": [
       "<Figure size 1000x600 with 1 Axes>"
      ]
     },
     "metadata": {},
     "output_type": "display_data"
    }
   ],
   "source": [
    "\n",
    "labels = ['10%-1CF', '10%-2CF', '20%-1CF', '20%-2CF', '30%-1CF', '30%-2CF' ]\n",
    "\n",
    "## Show the plot\n",
    "plt.figure(figsize=(10, 6))\n",
    "\n",
    "# Plotting AUC differences\n",
    "for i, label in enumerate(labels):\n",
    "    plt.scatter(ks_results_list, auc_scores, color='blue')  # You can customize the color and marker\n",
    "    plt.annotate(label, (ks_results_list[i], auc_scores[i]),\n",
    "                 textcoords=\"offset points\", xytext=(0,8), ha='left')\n",
    "\n",
    "\n",
    "plt.axhline(y=rf_default_auc, color='k', linestyle='--', label=\"Default_RF_Line\")  # Plot RF_line as a horizontal line\n",
    "plt.axhline(y=lr_default_auc, color='r', linestyle='--', label=\"Default_DT_Line\")  # Plot RF_line as a horizontal line\n",
    "\n",
    "# Add labels, title, and legend\n",
    "plt.title('AUC Scores vs. Distribution Differences Between Datasets\\nDecision Tree')\n",
    "plt.xlabel('Feature Distribution Differences Between Original and Counterfactual Dataframes - KS Statistic')\n",
    "plt.ylabel('AUC Scores')\n",
    "plt.legend()\n",
    "\n",
    "# Show the plot\n",
    "plt.show()"
   ]
  },
  {
   "cell_type": "code",
   "execution_count": 31,
   "metadata": {},
   "outputs": [
    {
     "ename": "NameError",
     "evalue": "name 'auc_diff_cf' is not defined",
     "output_type": "error",
     "traceback": [
      "\u001b[1;31m---------------------------------------------------------------------------\u001b[0m",
      "\u001b[1;31mNameError\u001b[0m                                 Traceback (most recent call last)",
      "Cell \u001b[1;32mIn[31], line 6\u001b[0m\n\u001b[0;32m      3\u001b[0m \u001b[38;5;66;03m# Plotting\u001b[39;00m\n\u001b[0;32m      4\u001b[0m \u001b[38;5;28;01mfor\u001b[39;00m i, label \u001b[38;5;129;01min\u001b[39;00m \u001b[38;5;28menumerate\u001b[39m(labels):\n\u001b[1;32m----> 6\u001b[0m     plt\u001b[38;5;241m.\u001b[39mscatter(ks_results_list, \u001b[43mauc_diff_cf\u001b[49m, color\u001b[38;5;241m=\u001b[39m\u001b[38;5;124m'\u001b[39m\u001b[38;5;124mblue\u001b[39m\u001b[38;5;124m'\u001b[39m)  \u001b[38;5;66;03m# You can customize the color and marker.\u001b[39;00m\n\u001b[0;32m      7\u001b[0m     plt\u001b[38;5;241m.\u001b[39mannotate(label, (ks_results_list[i], auc_diff_cf[i]),\n\u001b[0;32m      8\u001b[0m                  textcoords\u001b[38;5;241m=\u001b[39m\u001b[38;5;124m\"\u001b[39m\u001b[38;5;124moffset points\u001b[39m\u001b[38;5;124m\"\u001b[39m, xytext\u001b[38;5;241m=\u001b[39m(\u001b[38;5;241m0\u001b[39m,\u001b[38;5;241m20\u001b[39m), ha\u001b[38;5;241m=\u001b[39m\u001b[38;5;124m'\u001b[39m\u001b[38;5;124mcenter\u001b[39m\u001b[38;5;124m'\u001b[39m)\n\u001b[0;32m      9\u001b[0m plt\u001b[38;5;241m.\u001b[39mtitle(\u001b[38;5;124m'\u001b[39m\u001b[38;5;124mScatter Plot of Improvement in AUC Score vs. Difference in the Distribution of Features between the Original and Counterfactual Dataframes - KS Statistic\u001b[39m\u001b[38;5;124m'\u001b[39m)\n",
      "\u001b[1;31mNameError\u001b[0m: name 'auc_diff_cf' is not defined"
     ]
    },
    {
     "data": {
      "text/plain": [
       "<Figure size 1700x1000 with 0 Axes>"
      ]
     },
     "metadata": {},
     "output_type": "display_data"
    }
   ],
   "source": [
    "\n",
    "\n",
    "# Show the plot\n",
    "plt.figure(figsize=(17, 10))\n",
    "# Plotting\n",
    "for i, label in enumerate(labels):\n",
    "\n",
    "    plt.scatter(ks_results_list, auc_diff_cf, color='blue')  # You can customize the color and marker.\n",
    "    plt.annotate(label, (ks_results_list[i], auc_diff_cf[i]),\n",
    "                 textcoords=\"offset points\", xytext=(0,20), ha='center')\n",
    "plt.title('Scatter Plot of Improvement in AUC Score vs. Difference in the Distribution of Features between the Original and Counterfactual Dataframes - KS Statistic')\n",
    "plt.xlabel('Difference in the Distribution of Features between the Original and Counterfactual Dataframes - KS Statistic')\n",
    "plt.ylabel('AUC Score Difference with the Baseline Model Ttrained on Original Data')\n",
    "plt.show()"
   ]
  }
 ],
 "metadata": {
  "kernelspec": {
   "display_name": "banana",
   "language": "python",
   "name": "python3"
  },
  "language_info": {
   "codemirror_mode": {
    "name": "ipython",
    "version": 3
   },
   "file_extension": ".py",
   "mimetype": "text/x-python",
   "name": "python",
   "nbconvert_exporter": "python",
   "pygments_lexer": "ipython3",
   "version": "3.10.0"
  }
 },
 "nbformat": 4,
 "nbformat_minor": 2
}
