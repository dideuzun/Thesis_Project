{
 "cells": [
  {
   "cell_type": "markdown",
   "metadata": {},
   "source": [
    "Repair"
   ]
  },
  {
   "cell_type": "markdown",
   "metadata": {},
   "source": [
    "# Cleaning"
   ]
  },
  {
   "cell_type": "code",
   "execution_count": 2,
   "metadata": {},
   "outputs": [],
   "source": [
    "import pandas as pd\n",
    "import numpy as np\n",
    "\n",
    "from sklearn import preprocessing\n",
    "import matplotlib.pyplot as plt"
   ]
  },
  {
   "cell_type": "code",
   "execution_count": 3,
   "metadata": {},
   "outputs": [],
   "source": [
    "# Load the dataframe from a csv file\n",
    "df_cf = pd.read_csv('Generated_CFs/cf_df_12000_2_1.csv')"
   ]
  },
  {
   "cell_type": "code",
   "execution_count": 4,
   "metadata": {},
   "outputs": [],
   "source": [
    "# Load the dataframe from a csv file\n",
    "df = pd.read_csv('CensusAdultIncome.csv')"
   ]
  },
  {
   "cell_type": "code",
   "execution_count": 5,
   "metadata": {},
   "outputs": [],
   "source": [
    "start_index = 1 + len(df)  # Calculate the starting index\n",
    "new_index = range(start_index, start_index + len(df_cf))  # Create a new index starting from start_index\n",
    "df_cf_reset = df_cf.copy()  # Create a copy of the DataFrame\n",
    "df_cf_reset.index = new_index  # Set the new index\n",
    "df_cf = df_cf_reset # Assign the new indexed DataFrame to the original DataFrame\n",
    "df_cf.drop(columns=['Unnamed: 0'], inplace=True)  # Drop the 'Unnamed: 0' column"
   ]
  },
  {
   "cell_type": "code",
   "execution_count": 6,
   "metadata": {},
   "outputs": [
    {
     "name": "stderr",
     "output_type": "stream",
     "text": [
      "C:\\Users\\dideu\\AppData\\Local\\Temp\\ipykernel_19720\\3457457334.py:2: FutureWarning: The default value of regex will change from True to False in a future version. In addition, single character regular expressions will *not* be treated as literal strings when regex=True.\n",
      "  df['income'] = df['income'].str.replace('.', '')\n"
     ]
    }
   ],
   "source": [
    "#Target value has values with dots, therefore 4 catagories\n",
    "df['income'] = df['income'].str.replace('.', '')\n",
    "\n",
    "# Replace the values in the target column with string '0' and '1'.\n",
    "df['income'] = df['income'].str.replace('<=50K', '0')  \n",
    "df['income'] = df['income'].str.replace('>50K', '1')   \n",
    "\n",
    "# Convert to integer\n",
    "df['income'] = df['income'].astype(int)"
   ]
  },
  {
   "cell_type": "code",
   "execution_count": 7,
   "metadata": {},
   "outputs": [],
   "source": [
    "#Some values are like '?'. Replacing them as NaN \n",
    "df[df == '?'] = np.nan\n",
    "# Dropping the rows with NaN values in  'workclass', 'occupation', 'native-country' for the test dataset\n",
    "df.dropna(subset=['workclass', 'occupation', 'native-country'], inplace=True)\n",
    "df.dropna( inplace=True)\n",
    "df.drop(columns=['education', 'occupation', 'native-country'], inplace=True)"
   ]
  },
  {
   "cell_type": "markdown",
   "metadata": {},
   "source": [
    "# Plots for creating feature importance plot"
   ]
  },
  {
   "cell_type": "code",
   "execution_count": 8,
   "metadata": {},
   "outputs": [],
   "source": [
    "auc_df = pd.read_excel('Performance_metrics\\model_perf_metrics_mean_of_iterations_10_20_30_40_perc .xlsx')\n",
    "auc_onlycf_df = pd.read_excel('Performance_metrics\\model_perf_metrics_mean_of_iterations_only_with_cfs_10_20_30_40_perc .xlsx')"
   ]
  },
  {
   "cell_type": "code",
   "execution_count": 9,
   "metadata": {},
   "outputs": [
    {
     "data": {
      "text/html": [
       "<div>\n",
       "<style scoped>\n",
       "    .dataframe tbody tr th:only-of-type {\n",
       "        vertical-align: middle;\n",
       "    }\n",
       "\n",
       "    .dataframe tbody tr th {\n",
       "        vertical-align: top;\n",
       "    }\n",
       "\n",
       "    .dataframe thead th {\n",
       "        text-align: right;\n",
       "    }\n",
       "</style>\n",
       "<table border=\"1\" class=\"dataframe\">\n",
       "  <thead>\n",
       "    <tr style=\"text-align: right;\">\n",
       "      <th></th>\n",
       "      <th>Unnamed: 0</th>\n",
       "      <th>Model</th>\n",
       "      <th>Iteration</th>\n",
       "      <th>Sample Size</th>\n",
       "      <th>CF Num</th>\n",
       "      <th>X_fit Size</th>\n",
       "      <th>F1 (%)</th>\n",
       "      <th>F1 (%)_std</th>\n",
       "      <th>AUC (%)</th>\n",
       "      <th>AUC (%)_std</th>\n",
       "    </tr>\n",
       "  </thead>\n",
       "  <tbody>\n",
       "    <tr>\n",
       "      <th>6</th>\n",
       "      <td>6</td>\n",
       "      <td>DT_sample:6331_cf:2_mean_of_5_iterations</td>\n",
       "      <td>5</td>\n",
       "      <td>6331</td>\n",
       "      <td>2</td>\n",
       "      <td>44317</td>\n",
       "      <td>0.616503</td>\n",
       "      <td>0.003472</td>\n",
       "      <td>0.739492</td>\n",
       "      <td>0.002392</td>\n",
       "    </tr>\n",
       "    <tr>\n",
       "      <th>7</th>\n",
       "      <td>7</td>\n",
       "      <td>DT_sample:9495_cf:1_mean_of_5_iterations</td>\n",
       "      <td>5</td>\n",
       "      <td>9495</td>\n",
       "      <td>1</td>\n",
       "      <td>41150</td>\n",
       "      <td>0.617262</td>\n",
       "      <td>0.002559</td>\n",
       "      <td>0.740310</td>\n",
       "      <td>0.001846</td>\n",
       "    </tr>\n",
       "    <tr>\n",
       "      <th>8</th>\n",
       "      <td>8</td>\n",
       "      <td>DT_sample:9495_cf:2_mean_of_5_iterations</td>\n",
       "      <td>5</td>\n",
       "      <td>9495</td>\n",
       "      <td>2</td>\n",
       "      <td>50645</td>\n",
       "      <td>0.618014</td>\n",
       "      <td>0.003160</td>\n",
       "      <td>0.739426</td>\n",
       "      <td>0.002223</td>\n",
       "    </tr>\n",
       "    <tr>\n",
       "      <th>9</th>\n",
       "      <td>9</td>\n",
       "      <td>DT_sample:12000_cf:1_mean_of_5_iterations</td>\n",
       "      <td>5</td>\n",
       "      <td>12000</td>\n",
       "      <td>1</td>\n",
       "      <td>43655</td>\n",
       "      <td>0.626980</td>\n",
       "      <td>0.005086</td>\n",
       "      <td>0.748876</td>\n",
       "      <td>0.003244</td>\n",
       "    </tr>\n",
       "    <tr>\n",
       "      <th>10</th>\n",
       "      <td>10</td>\n",
       "      <td>DT_sample:12000_cf:2_mean_of_5_iterations</td>\n",
       "      <td>5</td>\n",
       "      <td>12000</td>\n",
       "      <td>2</td>\n",
       "      <td>55655</td>\n",
       "      <td>0.630185</td>\n",
       "      <td>0.002098</td>\n",
       "      <td>0.750760</td>\n",
       "      <td>0.001364</td>\n",
       "    </tr>\n",
       "  </tbody>\n",
       "</table>\n",
       "</div>"
      ],
      "text/plain": [
       "    Unnamed: 0                                      Model  Iteration  \\\n",
       "6            6   DT_sample:6331_cf:2_mean_of_5_iterations          5   \n",
       "7            7   DT_sample:9495_cf:1_mean_of_5_iterations          5   \n",
       "8            8   DT_sample:9495_cf:2_mean_of_5_iterations          5   \n",
       "9            9  DT_sample:12000_cf:1_mean_of_5_iterations          5   \n",
       "10          10  DT_sample:12000_cf:2_mean_of_5_iterations          5   \n",
       "\n",
       "    Sample Size  CF Num  X_fit Size    F1 (%)  F1 (%)_std   AUC (%)  \\\n",
       "6          6331       2       44317  0.616503    0.003472  0.739492   \n",
       "7          9495       1       41150  0.617262    0.002559  0.740310   \n",
       "8          9495       2       50645  0.618014    0.003160  0.739426   \n",
       "9         12000       1       43655  0.626980    0.005086  0.748876   \n",
       "10        12000       2       55655  0.630185    0.002098  0.750760   \n",
       "\n",
       "    AUC (%)_std  \n",
       "6      0.002392  \n",
       "7      0.001846  \n",
       "8      0.002223  \n",
       "9      0.003244  \n",
       "10     0.001364  "
      ]
     },
     "execution_count": 9,
     "metadata": {},
     "output_type": "execute_result"
    }
   ],
   "source": [
    "auc_df.tail() #0.746520\t"
   ]
  },
  {
   "cell_type": "code",
   "execution_count": 10,
   "metadata": {},
   "outputs": [],
   "source": [
    "# Get the AUC score for the LR default model\n",
    "lr_default_auc =  auc_df[auc_df['Model'].str.startswith('DT_default')]['AUC (%)'].iloc[0]\n",
    "auc_scores = auc_df['AUC (%)'][3:].tolist()\n",
    "\n",
    "rf_default_auc =  auc_df[auc_df['Model'].str.startswith('RF_default')]['AUC (%)'].iloc[0]\n",
    "\n",
    "lr_default_auc_cf =  auc_onlycf_df[auc_onlycf_df['Model'].str.startswith('DT_default')]['AUC (%)'].iloc[0]\n",
    "auc_scores_cf = auc_onlycf_df['AUC (%)'][3:].tolist()\n"
   ]
  },
  {
   "cell_type": "code",
   "execution_count": 11,
   "metadata": {},
   "outputs": [
    {
     "name": "stdout",
     "output_type": "stream",
     "text": [
      "                KS Statistic\n",
      "age                 0.044505\n",
      "workclass           0.036455\n",
      "fnlwgt              0.007413\n",
      "education-num       0.053734\n",
      "marital-status      0.035963\n",
      "relationship        0.046157\n",
      "race                0.062017\n",
      "sex                 0.019131\n",
      "capital-gain        0.590358\n",
      "capital-loss        0.169470\n",
      "hours-per-week      0.042281\n",
      "income              0.502948\n",
      "Mean KS Statistic: 0.13420257562690727\n"
     ]
    }
   ],
   "source": [
    "from scipy.stats import ks_2samp\n",
    "import pandas as pd\n",
    "\n",
    "def ks_test_all_features(original_df, cf_df):\n",
    "    results = {}\n",
    "    # Iterate over columns in the original dataframe\n",
    "    for column in original_df.columns:\n",
    "        # Check if the column exists in the counterfactual dataframe and both columns are not empty\n",
    "            # Apply the KS test\n",
    "        stat, p_value = ks_2samp(original_df[column].dropna(), cf_df[column].dropna())\n",
    "        results[column] = {'KS Statistic': stat}\n",
    "\n",
    "    return results\n",
    "\n",
    "# Example usage assuming original_df and cf_df have been preprocessed\n",
    "ks_results = ks_test_all_features(df, df_cf)\n",
    "ks_results_df = pd.DataFrame(ks_results).T\n",
    "print(ks_results_df)\n",
    "\n",
    "\n",
    "# Calculate the mean of the KS statistics\n",
    "mean_ks_statistic = ks_results_df['KS Statistic'].mean()\n",
    "print(\"Mean KS Statistic:\", mean_ks_statistic)\n"
   ]
  },
  {
   "cell_type": "code",
   "execution_count": 12,
   "metadata": {},
   "outputs": [],
   "source": [
    "list_1 = [3166, 6331, 9495, 12000]\n",
    "list_2 = [1, 2]\n",
    "\n",
    "list_3 = [1,2,3,4,5] #iterations"
   ]
  },
  {
   "cell_type": "code",
   "execution_count": 13,
   "metadata": {},
   "outputs": [],
   "source": [
    "ks_results_list = [] \n",
    "for i in list_1:\n",
    "    for t in list_2:\n",
    "        for z in list_3:\n",
    "            df_cf = pd.read_csv('Generated_CFs/cf_df_{}_{}_{}.csv'.format(i,t, z), index_col=0)\n",
    "            start_index = 1 + len(df)  # Calculate the starting index\n",
    "            new_index = range(start_index, start_index + len(df_cf))  # Create a new index starting from start_index\n",
    "            df_cf_reset = df_cf.copy()  # Create a copy of the DataFrame\n",
    "            df_cf_reset.index = new_index  # Set the new index\n",
    "            df_cf = df_cf_reset # Assign the new indexed DataFrame to the original DataFrame\n",
    "            ks_results = ks_test_all_features(df, df_cf)\n",
    "            ks_results_df = pd.DataFrame(ks_results).T\n",
    "            mean_ks_statistic = ks_results_df['KS Statistic'].mean()\n",
    "            ks_results_list.append(mean_ks_statistic)"
   ]
  },
  {
   "cell_type": "code",
   "execution_count": 14,
   "metadata": {},
   "outputs": [
    {
     "data": {
      "text/plain": [
       "[0.11025356958035593,\n",
       " 0.11005912047255068,\n",
       " 0.1121355115563389,\n",
       " 0.11226611592538506,\n",
       " 0.11101599996997569,\n",
       " 0.11134223849458091,\n",
       " 0.11268582247235903,\n",
       " 0.11252394355227813,\n",
       " 0.1112840855937316,\n",
       " 0.1114580286026106,\n",
       " 0.11203225957777697,\n",
       " 0.11179335323880683,\n",
       " 0.11146520441415113,\n",
       " 0.1112765829480278,\n",
       " 0.11092539422736052,\n",
       " 0.1108174511095188,\n",
       " 0.11163618241248134,\n",
       " 0.11004294199313758,\n",
       " 0.11109691448813792,\n",
       " 0.1110332651599704,\n",
       " 0.10937919591998646,\n",
       " 0.1113478601813873,\n",
       " 0.10907770218790043,\n",
       " 0.1104772962658107,\n",
       " 0.10959192621764689,\n",
       " 0.11066389895042161,\n",
       " 0.1099685219175827,\n",
       " 0.11069697548963818,\n",
       " 0.10994422192742705,\n",
       " 0.11019644669586158,\n",
       " 0.13445257562690724,\n",
       " 0.13428766695413738,\n",
       " 0.13390396451579611,\n",
       " 0.13389007562690725,\n",
       " 0.13429612799080093,\n",
       " 0.13420257562690727,\n",
       " 0.1348516835463565,\n",
       " 0.13401854784912945,\n",
       " 0.13356021451579614,\n",
       " 0.13421646451579614]"
      ]
     },
     "execution_count": 14,
     "metadata": {},
     "output_type": "execute_result"
    }
   ],
   "source": [
    "ks_results_list"
   ]
  },
  {
   "cell_type": "markdown",
   "metadata": {},
   "source": [
    "getting the average of every iteration"
   ]
  },
  {
   "cell_type": "code",
   "execution_count": 15,
   "metadata": {},
   "outputs": [
    {
     "name": "stdout",
     "output_type": "stream",
     "text": [
      "[0.11114606350092124, 0.11185882374311204, 0.11149855888122465, 0.1109253510326492, 0.10997479615454635, 0.11029401299618621, 0.1341660821429098, 0.1341698972107971]\n"
     ]
    }
   ],
   "source": [
    "# Create a new list that gets the means of every 5 number\n",
    "new_list = [(ks_results_list[i] + ks_results_list[i + 1]+ ks_results_list[i + 2] + ks_results_list[i + 3] + ks_results_list[i + 4] ) / 5 for i in range(0, len(ks_results_list) - 1, 5)]\n",
    "\n",
    "\n",
    "# Print the new list\n",
    "print(new_list)\n",
    "ks_results_list = new_list.copy()"
   ]
  },
  {
   "cell_type": "code",
   "execution_count": 16,
   "metadata": {},
   "outputs": [
    {
     "data": {
      "image/png": "[encoded data removed]",
      "text/plain": [
       "<Figure size 1000x600 with 1 Axes>"
      ]
     },
     "metadata": {},
     "output_type": "display_data"
    }
   ],
   "source": [
    "\n",
    "labels = ['10%-1CF', '10%-2CF', '20%-1CF', '20%-2CF', '30%-1CF', '30%-2CF', '38%-1CF', '38%-2CF' ]\n",
    "\n",
    "## Show the plot\n",
    "plt.figure(figsize=(10, 6))\n",
    "\n",
    "# Plotting AUC differences\n",
    "for i, label in enumerate(labels):\n",
    "    plt.scatter(ks_results_list, auc_scores, color='blue')  # You can customize the color and marker\n",
    "    plt.annotate(label, (ks_results_list[i], auc_scores[i]),\n",
    "                 textcoords=\"offset points\", xytext=(0,8), ha='left')\n",
    "\n",
    "\n",
    "plt.axhline(y=rf_default_auc, color='k', linestyle='--', label=\"Default_RF_Line\")  # Plot RF_line as a horizontal line\n",
    "plt.axhline(y=lr_default_auc, color='r', linestyle='--', label=\"Default_DT_Line\")  # Plot RF_line as a horizontal line\n",
    "\n",
    "# Add labels, title, and legend\n",
    "plt.title('AUC Scores vs. Distribution Differences Between Datasets\\nDecision Tree')\n",
    "plt.xlabel('Feature Distribution Differences Between Original and Counterfactual Dataframes - KS Statistic')\n",
    "plt.ylabel('AUC Scores')\n",
    "plt.legend()\n",
    "\n",
    "# Show the plot\n",
    "plt.show()\n"
   ]
  },
  {
   "cell_type": "code",
   "execution_count": 17,
   "metadata": {},
   "outputs": [
    {
     "ename": "NameError",
     "evalue": "name 'auc_diff_cf' is not defined",
     "output_type": "error",
     "traceback": [
      "\u001b[1;31m---------------------------------------------------------------------------\u001b[0m",
      "\u001b[1;31mNameError\u001b[0m                                 Traceback (most recent call last)",
      "Cell \u001b[1;32mIn[17], line 8\u001b[0m\n\u001b[0;32m      5\u001b[0m \u001b[38;5;66;03m# Plotting\u001b[39;00m\n\u001b[0;32m      6\u001b[0m \u001b[38;5;28;01mfor\u001b[39;00m i, label \u001b[38;5;129;01min\u001b[39;00m \u001b[38;5;28menumerate\u001b[39m(labels):\n\u001b[1;32m----> 8\u001b[0m     plt\u001b[38;5;241m.\u001b[39mscatter(ks_results_list, \u001b[43mauc_diff_cf\u001b[49m, color\u001b[38;5;241m=\u001b[39m\u001b[38;5;124m'\u001b[39m\u001b[38;5;124mblue\u001b[39m\u001b[38;5;124m'\u001b[39m)  \u001b[38;5;66;03m# You can customize the color and marker.\u001b[39;00m\n\u001b[0;32m      9\u001b[0m     plt\u001b[38;5;241m.\u001b[39mannotate(label, (ks_results_list[i], auc_diff_cf[i]),\n\u001b[0;32m     10\u001b[0m                  textcoords\u001b[38;5;241m=\u001b[39m\u001b[38;5;124m\"\u001b[39m\u001b[38;5;124moffset points\u001b[39m\u001b[38;5;124m\"\u001b[39m, xytext\u001b[38;5;241m=\u001b[39m(\u001b[38;5;241m0\u001b[39m,\u001b[38;5;241m20\u001b[39m), ha\u001b[38;5;241m=\u001b[39m\u001b[38;5;124m'\u001b[39m\u001b[38;5;124mcenter\u001b[39m\u001b[38;5;124m'\u001b[39m)\n\u001b[0;32m     11\u001b[0m plt\u001b[38;5;241m.\u001b[39mtitle(\u001b[38;5;124m'\u001b[39m\u001b[38;5;124mScatter Plot of Improvement in AUC Score vs. Difference in the Distribution of Features between the Original and Counterfactual Dataframes - KS Statistic\u001b[39m\u001b[38;5;124m'\u001b[39m)\n",
      "\u001b[1;31mNameError\u001b[0m: name 'auc_diff_cf' is not defined"
     ]
    },
    {
     "data": {
      "text/plain": [
       "<Figure size 1700x1000 with 0 Axes>"
      ]
     },
     "metadata": {},
     "output_type": "display_data"
    }
   ],
   "source": [
    "\n",
    "labels = ['10%-1CF', '10%-2CF', '20%-1CF', '20%-2CF', '30%-1CF', '30%-2CF', '38%-1CF', '38%-2CF' ]\n",
    "\n",
    "# Show the plot\n",
    "plt.figure(figsize=(17, 10))\n",
    "# Plotting\n",
    "for i, label in enumerate(labels):\n",
    "\n",
    "    plt.scatter(ks_results_list, auc_diff_cf, color='blue')  # You can customize the color and marker.\n",
    "    plt.annotate(label, (ks_results_list[i], auc_diff_cf[i]),\n",
    "                 textcoords=\"offset points\", xytext=(0,20), ha='center')\n",
    "plt.title('Scatter Plot of Improvement in AUC Score vs. Difference in the Distribution of Features between the Original and Counterfactual Dataframes - KS Statistic')\n",
    "plt.xlabel('Difference in the Distribution of Features between the Original and Counterfactual Dataframes - KS Statistic')\n",
    "plt.ylabel('AUC Score Difference with the Baseline Model Ttrained on Original Data')\n",
    "plt.show()"
   ]
  }
 ],
 "metadata": {
  "kernelspec": {
   "display_name": "banana",
   "language": "python",
   "name": "python3"
  },
  "language_info": {
   "codemirror_mode": {
    "name": "ipython",
    "version": 3
   },
   "file_extension": ".py",
   "mimetype": "text/x-python",
   "name": "python",
   "nbconvert_exporter": "python",
   "pygments_lexer": "ipython3",
   "version": "3.10.0"
  }
 },
 "nbformat": 4,
 "nbformat_minor": 2
}
