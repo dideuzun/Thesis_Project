{
 "cells": [
  {
   "cell_type": "markdown",
   "metadata": {},
   "source": [
    "## libraries"
   ]
  },
  {
   "cell_type": "code",
   "execution_count": 6,
   "metadata": {},
   "outputs": [],
   "source": [
    "import pandas as pd\n",
    "import numpy as np\n",
    "\n",
    "\n",
    "from sklearn import preprocessing\n",
    "from sklearn.model_selection import train_test_split\n",
    "from sklearn.preprocessing import LabelEncoder\n",
    "from sklearn.preprocessing import StandardScaler\n",
    "from sklearn.preprocessing import OneHotEncoder\n",
    "from sklearn.pipeline import make_pipeline\n",
    "from sklearn.compose import ColumnTransformer\n",
    "from sklearn.pipeline import Pipeline\n",
    "import pickle"
   ]
  },
  {
   "cell_type": "code",
   "execution_count": 7,
   "metadata": {},
   "outputs": [],
   "source": [
    "df = pd.read_pickle('df_features.pkl')\n"
   ]
  },
  {
   "cell_type": "markdown",
   "metadata": {},
   "source": [
    "## pre process"
   ]
  },
  {
   "cell_type": "code",
   "execution_count": 8,
   "metadata": {},
   "outputs": [
    {
     "data": {
      "text/html": [
       "<div>\n",
       "<style scoped>\n",
       "    .dataframe tbody tr th:only-of-type {\n",
       "        vertical-align: middle;\n",
       "    }\n",
       "\n",
       "    .dataframe tbody tr th {\n",
       "        vertical-align: top;\n",
       "    }\n",
       "\n",
       "    .dataframe thead th {\n",
       "        text-align: right;\n",
       "    }\n",
       "</style>\n",
       "<table border=\"1\" class=\"dataframe\">\n",
       "  <thead>\n",
       "    <tr style=\"text-align: right;\">\n",
       "      <th></th>\n",
       "      <th>age</th>\n",
       "      <th>workclass</th>\n",
       "      <th>fnlwgt</th>\n",
       "      <th>education</th>\n",
       "      <th>education-num</th>\n",
       "      <th>marital-status</th>\n",
       "      <th>occupation</th>\n",
       "      <th>relationship</th>\n",
       "      <th>race</th>\n",
       "      <th>sex</th>\n",
       "      <th>capital-gain</th>\n",
       "      <th>capital-loss</th>\n",
       "      <th>hours-per-week</th>\n",
       "      <th>native-country</th>\n",
       "      <th>Income</th>\n",
       "    </tr>\n",
       "  </thead>\n",
       "  <tbody>\n",
       "    <tr>\n",
       "      <th>0</th>\n",
       "      <td>39</td>\n",
       "      <td>State-gov</td>\n",
       "      <td>77516</td>\n",
       "      <td>Bachelors</td>\n",
       "      <td>13</td>\n",
       "      <td>Never-married</td>\n",
       "      <td>Adm-clerical</td>\n",
       "      <td>Not-in-family</td>\n",
       "      <td>White</td>\n",
       "      <td>Male</td>\n",
       "      <td>2174</td>\n",
       "      <td>0</td>\n",
       "      <td>40</td>\n",
       "      <td>United-States</td>\n",
       "      <td>&lt;=50K</td>\n",
       "    </tr>\n",
       "    <tr>\n",
       "      <th>1</th>\n",
       "      <td>50</td>\n",
       "      <td>Self-emp-not-inc</td>\n",
       "      <td>83311</td>\n",
       "      <td>Bachelors</td>\n",
       "      <td>13</td>\n",
       "      <td>Married-civ-spouse</td>\n",
       "      <td>Exec-managerial</td>\n",
       "      <td>Husband</td>\n",
       "      <td>White</td>\n",
       "      <td>Male</td>\n",
       "      <td>0</td>\n",
       "      <td>0</td>\n",
       "      <td>13</td>\n",
       "      <td>United-States</td>\n",
       "      <td>&lt;=50K</td>\n",
       "    </tr>\n",
       "    <tr>\n",
       "      <th>2</th>\n",
       "      <td>38</td>\n",
       "      <td>Private</td>\n",
       "      <td>215646</td>\n",
       "      <td>HS-grad</td>\n",
       "      <td>9</td>\n",
       "      <td>Divorced</td>\n",
       "      <td>Handlers-cleaners</td>\n",
       "      <td>Not-in-family</td>\n",
       "      <td>White</td>\n",
       "      <td>Male</td>\n",
       "      <td>0</td>\n",
       "      <td>0</td>\n",
       "      <td>40</td>\n",
       "      <td>United-States</td>\n",
       "      <td>&lt;=50K</td>\n",
       "    </tr>\n",
       "    <tr>\n",
       "      <th>3</th>\n",
       "      <td>53</td>\n",
       "      <td>Private</td>\n",
       "      <td>234721</td>\n",
       "      <td>11th</td>\n",
       "      <td>7</td>\n",
       "      <td>Married-civ-spouse</td>\n",
       "      <td>Handlers-cleaners</td>\n",
       "      <td>Husband</td>\n",
       "      <td>Black</td>\n",
       "      <td>Male</td>\n",
       "      <td>0</td>\n",
       "      <td>0</td>\n",
       "      <td>40</td>\n",
       "      <td>United-States</td>\n",
       "      <td>&lt;=50K</td>\n",
       "    </tr>\n",
       "    <tr>\n",
       "      <th>4</th>\n",
       "      <td>28</td>\n",
       "      <td>Private</td>\n",
       "      <td>338409</td>\n",
       "      <td>Bachelors</td>\n",
       "      <td>13</td>\n",
       "      <td>Married-civ-spouse</td>\n",
       "      <td>Prof-specialty</td>\n",
       "      <td>Wife</td>\n",
       "      <td>Black</td>\n",
       "      <td>Female</td>\n",
       "      <td>0</td>\n",
       "      <td>0</td>\n",
       "      <td>40</td>\n",
       "      <td>Cuba</td>\n",
       "      <td>&lt;=50K</td>\n",
       "    </tr>\n",
       "  </tbody>\n",
       "</table>\n",
       "</div>"
      ],
      "text/plain": [
       "   age         workclass  fnlwgt  education  education-num  \\\n",
       "0   39         State-gov   77516  Bachelors             13   \n",
       "1   50  Self-emp-not-inc   83311  Bachelors             13   \n",
       "2   38           Private  215646    HS-grad              9   \n",
       "3   53           Private  234721       11th              7   \n",
       "4   28           Private  338409  Bachelors             13   \n",
       "\n",
       "       marital-status         occupation   relationship   race     sex  \\\n",
       "0       Never-married       Adm-clerical  Not-in-family  White    Male   \n",
       "1  Married-civ-spouse    Exec-managerial        Husband  White    Male   \n",
       "2            Divorced  Handlers-cleaners  Not-in-family  White    Male   \n",
       "3  Married-civ-spouse  Handlers-cleaners        Husband  Black    Male   \n",
       "4  Married-civ-spouse     Prof-specialty           Wife  Black  Female   \n",
       "\n",
       "   capital-gain  capital-loss  hours-per-week native-country Income  \n",
       "0          2174             0              40  United-States  <=50K  \n",
       "1             0             0              13  United-States  <=50K  \n",
       "2             0             0              40  United-States  <=50K  \n",
       "3             0             0              40  United-States  <=50K  \n",
       "4             0             0              40           Cuba  <=50K  "
      ]
     },
     "execution_count": 8,
     "metadata": {},
     "output_type": "execute_result"
    }
   ],
   "source": [
    "df.head()\n"
   ]
  },
  {
   "cell_type": "code",
   "execution_count": 9,
   "metadata": {},
   "outputs": [
    {
     "name": "stdout",
     "output_type": "stream",
     "text": [
      "<class 'pandas.core.frame.DataFrame'>\n",
      "RangeIndex: 48842 entries, 0 to 48841\n",
      "Data columns (total 15 columns):\n",
      " #   Column          Non-Null Count  Dtype \n",
      "---  ------          --------------  ----- \n",
      " 0   age             48842 non-null  int64 \n",
      " 1   workclass       47879 non-null  object\n",
      " 2   fnlwgt          48842 non-null  int64 \n",
      " 3   education       48842 non-null  object\n",
      " 4   education-num   48842 non-null  int64 \n",
      " 5   marital-status  48842 non-null  object\n",
      " 6   occupation      47876 non-null  object\n",
      " 7   relationship    48842 non-null  object\n",
      " 8   race            48842 non-null  object\n",
      " 9   sex             48842 non-null  object\n",
      " 10  capital-gain    48842 non-null  int64 \n",
      " 11  capital-loss    48842 non-null  int64 \n",
      " 12  hours-per-week  48842 non-null  int64 \n",
      " 13  native-country  48568 non-null  object\n",
      " 14  Income          48842 non-null  object\n",
      "dtypes: int64(6), object(9)\n",
      "memory usage: 5.6+ MB\n"
     ]
    }
   ],
   "source": [
    "df.info()"
   ]
  },
  {
   "cell_type": "code",
   "execution_count": 10,
   "metadata": {},
   "outputs": [
    {
     "name": "stderr",
     "output_type": "stream",
     "text": [
      "C:\\Users\\dideu\\AppData\\Local\\Temp\\ipykernel_16156\\734066848.py:4: FutureWarning: The default value of regex will change from True to False in a future version. In addition, single character regular expressions will *not* be treated as literal strings when regex=True.\n",
      "  df['Income'] = df['Income'].str.replace('.', '')\n"
     ]
    }
   ],
   "source": [
    "#  Cleaning target value and making it a binary classification\n",
    "\n",
    "#Target value has values like '>50K.'.\n",
    "df['Income'] = df['Income'].str.replace('.', '')\n",
    "\n",
    "df['Income'] = df['Income'].str.replace('<=50K', '0')  # Replace with string '0'\n",
    "df['Income'] = df['Income'].str.replace('>50K', '1')   # Replace with string '1'\n",
    "\n",
    "# Convert to integer\n",
    "df['Income'] = df['Income'].astype(int)"
   ]
  },
  {
   "cell_type": "code",
   "execution_count": 11,
   "metadata": {},
   "outputs": [
    {
     "name": "stdout",
     "output_type": "stream",
     "text": [
      "<class 'pandas.core.frame.DataFrame'>\n",
      "RangeIndex: 48842 entries, 0 to 48841\n",
      "Data columns (total 15 columns):\n",
      " #   Column          Non-Null Count  Dtype \n",
      "---  ------          --------------  ----- \n",
      " 0   age             48842 non-null  int64 \n",
      " 1   workclass       47879 non-null  object\n",
      " 2   fnlwgt          48842 non-null  int64 \n",
      " 3   education       48842 non-null  object\n",
      " 4   education-num   48842 non-null  int64 \n",
      " 5   marital-status  48842 non-null  object\n",
      " 6   occupation      47876 non-null  object\n",
      " 7   relationship    48842 non-null  object\n",
      " 8   race            48842 non-null  object\n",
      " 9   sex             48842 non-null  object\n",
      " 10  capital-gain    48842 non-null  int64 \n",
      " 11  capital-loss    48842 non-null  int64 \n",
      " 12  hours-per-week  48842 non-null  int64 \n",
      " 13  native-country  48568 non-null  object\n",
      " 14  Income          48842 non-null  int32 \n",
      "dtypes: int32(1), int64(6), object(8)\n",
      "memory usage: 5.4+ MB\n"
     ]
    }
   ],
   "source": [
    "df.info()"
   ]
  },
  {
   "cell_type": "code",
   "execution_count": 12,
   "metadata": {},
   "outputs": [
    {
     "data": {
      "text/plain": [
       "0    37155\n",
       "1    11687\n",
       "Name: Income, dtype: int64"
      ]
     },
     "execution_count": 12,
     "metadata": {},
     "output_type": "execute_result"
    }
   ],
   "source": [
    "df['Income'].value_counts()"
   ]
  },
  {
   "cell_type": "code",
   "execution_count": 13,
   "metadata": {},
   "outputs": [
    {
     "name": "stdout",
     "output_type": "stream",
     "text": [
      "0    37155\n",
      "1    11687\n",
      "Name: Income, dtype: int64\n",
      "0    76.071823\n",
      "1    23.928177\n",
      "Name: Income, dtype: float64\n",
      "\n",
      "Total number of rows:  48842\n"
     ]
    }
   ],
   "source": [
    "# Count and percentage of Target classes variable\n",
    "\n",
    "# Calculate the counts of unique values in the 'class' column of 'df_class_feature' and store it in 'class_counts'.\n",
    "class_counts = df['Income'].value_counts()\n",
    "# Calculate the percentage of each unique value in the 'class' column by dividing 'class_counts' by its sum and then multiplying by 100.\n",
    "class_percentages = class_counts / class_counts.sum() * 100\n",
    "\n",
    "print(class_counts)\n",
    "print(class_percentages)\n",
    "print()\n",
    "a = df.shape[0]\n",
    "print('Total number of rows: ', a)"
   ]
  },
  {
   "cell_type": "code",
   "execution_count": 14,
   "metadata": {},
   "outputs": [],
   "source": [
    "#Some values are like '?'. Replacing them as NaN \n",
    "df[df == '?'] = np.nan"
   ]
  },
  {
   "cell_type": "code",
   "execution_count": 15,
   "metadata": {},
   "outputs": [],
   "source": [
    "# Dropping the rows with NaN values in  'workclass', 'occupation', 'native-country' for the test dataset\n",
    "df.dropna(subset=['workclass', 'occupation', 'native-country'], inplace=True)\n",
    "df.dropna( inplace=True)"
   ]
  },
  {
   "cell_type": "code",
   "execution_count": 16,
   "metadata": {},
   "outputs": [
    {
     "name": "stdout",
     "output_type": "stream",
     "text": [
      "0    34014\n",
      "1    11208\n",
      "Name: Income, dtype: int64\n",
      "0    75.215603\n",
      "1    24.784397\n",
      "Name: Income, dtype: float64\n",
      "\n",
      "Number of rows after dropping NaN:  45222\n",
      "number of rows dropped:  3620\n"
     ]
    }
   ],
   "source": [
    "# Count and percentage of Target classes values after droping NaN values \n",
    "\n",
    "# Calculate the counts of unique values in the 'class' column of 'df_class_feature' and store it in 'class_counts'.\n",
    "class_counts = df['Income'].value_counts()\n",
    "\n",
    "# Calculate the percentage of each unique value in the 'class' column by dividing 'class_counts' by its sum and then multiplying by 100.\n",
    "class_percentages = class_counts / class_counts.sum() * 100\n",
    "\n",
    "print(class_counts)\n",
    "print(class_percentages)\n",
    "print()\n",
    "b = df.shape[0]\n",
    "print('Number of rows after dropping NaN: ', b)\n",
    "print('number of rows dropped: ', a-b)"
   ]
  },
  {
   "cell_type": "code",
   "execution_count": 17,
   "metadata": {},
   "outputs": [
    {
     "name": "stdout",
     "output_type": "stream",
     "text": [
      "HS-grad         14783\n",
      "Some-college     9899\n",
      "Bachelors        7570\n",
      "Masters          2514\n",
      "Assoc-voc        1959\n",
      "Name: education, dtype: int64\n",
      "\n",
      "9     14783\n",
      "10     9899\n",
      "13     7570\n",
      "14     2514\n",
      "11     1959\n",
      "Name: education-num, dtype: int64\n"
     ]
    }
   ],
   "source": [
    "# Checking wheter Education and Education-number are similar. Print the first 5 rows of 'df_class_feature'\n",
    "print(df['education'].value_counts().head())\n",
    "print()\n",
    "print(df['education-num'].value_counts().head())"
   ]
  },
  {
   "cell_type": "markdown",
   "metadata": {},
   "source": [
    "### Creating X and y sets"
   ]
  },
  {
   "cell_type": "code",
   "execution_count": 18,
   "metadata": {},
   "outputs": [],
   "source": [
    "# From X set, education column is also dropped as it is similar to Education-num\n",
    "X = df.drop(['Income', 'education' ], axis=1)\n",
    "\n",
    "y = df['Income']"
   ]
  },
  {
   "cell_type": "code",
   "execution_count": 19,
   "metadata": {},
   "outputs": [
    {
     "name": "stdout",
     "output_type": "stream",
     "text": [
      "<class 'pandas.core.frame.DataFrame'>\n",
      "Int64Index: 45222 entries, 0 to 48841\n",
      "Data columns (total 13 columns):\n",
      " #   Column          Non-Null Count  Dtype \n",
      "---  ------          --------------  ----- \n",
      " 0   age             45222 non-null  int64 \n",
      " 1   workclass       45222 non-null  object\n",
      " 2   fnlwgt          45222 non-null  int64 \n",
      " 3   education-num   45222 non-null  int64 \n",
      " 4   marital-status  45222 non-null  object\n",
      " 5   occupation      45222 non-null  object\n",
      " 6   relationship    45222 non-null  object\n",
      " 7   race            45222 non-null  object\n",
      " 8   sex             45222 non-null  object\n",
      " 9   capital-gain    45222 non-null  int64 \n",
      " 10  capital-loss    45222 non-null  int64 \n",
      " 11  hours-per-week  45222 non-null  int64 \n",
      " 12  native-country  45222 non-null  object\n",
      "dtypes: int64(6), object(7)\n",
      "memory usage: 4.8+ MB\n"
     ]
    }
   ],
   "source": [
    "X.info()"
   ]
  },
  {
   "cell_type": "code",
   "execution_count": 20,
   "metadata": {},
   "outputs": [
    {
     "data": {
      "text/plain": [
       "0    34014\n",
       "1    11208\n",
       "Name: Income, dtype: int64"
      ]
     },
     "execution_count": 20,
     "metadata": {},
     "output_type": "execute_result"
    }
   ],
   "source": [
    "y.value_counts()"
   ]
  },
  {
   "cell_type": "markdown",
   "metadata": {},
   "source": [
    "### Split data into separate fitting and test set"
   ]
  },
  {
   "cell_type": "code",
   "execution_count": 21,
   "metadata": {},
   "outputs": [],
   "source": [
    "# Split the dataset into fitting data (70%) and test set (30%)\n",
    "X_fit, X_test, y_fit, y_test = train_test_split(X, y, test_size=0.3, random_state=1)\n"
   ]
  },
  {
   "cell_type": "code",
   "execution_count": 22,
   "metadata": {},
   "outputs": [
    {
     "name": "stdout",
     "output_type": "stream",
     "text": [
      "<class 'pandas.core.frame.DataFrame'>\n",
      "Int64Index: 31655 entries, 34605 to 35636\n",
      "Data columns (total 13 columns):\n",
      " #   Column          Non-Null Count  Dtype \n",
      "---  ------          --------------  ----- \n",
      " 0   age             31655 non-null  int64 \n",
      " 1   workclass       31655 non-null  object\n",
      " 2   fnlwgt          31655 non-null  int64 \n",
      " 3   education-num   31655 non-null  int64 \n",
      " 4   marital-status  31655 non-null  object\n",
      " 5   occupation      31655 non-null  object\n",
      " 6   relationship    31655 non-null  object\n",
      " 7   race            31655 non-null  object\n",
      " 8   sex             31655 non-null  object\n",
      " 9   capital-gain    31655 non-null  int64 \n",
      " 10  capital-loss    31655 non-null  int64 \n",
      " 11  hours-per-week  31655 non-null  int64 \n",
      " 12  native-country  31655 non-null  object\n",
      "dtypes: int64(6), object(7)\n",
      "memory usage: 3.4+ MB\n"
     ]
    }
   ],
   "source": [
    "X_fit.info()"
   ]
  },
  {
   "cell_type": "code",
   "execution_count": 23,
   "metadata": {},
   "outputs": [
    {
     "name": "stdout",
     "output_type": "stream",
     "text": [
      "Fit set class percentages:\n",
      "{0: 75.13504975517296, 1: 24.864950244827043}\n",
      "\n",
      "Test set class percentages:\n",
      "{0: 75.40355273826196, 1: 24.596447261738042}\n",
      "\n",
      " Number of rows of X fit 31655 \n",
      " Number of rows of X test 13567 \n",
      " Number of rows of Y fit 31655 \n",
      " Number of rows of y test 13567\n"
     ]
    }
   ],
   "source": [
    "# Defined a function to calculate  and print the percentage of each class in the target variable\n",
    "def calculate_class_percentage(y):\n",
    "    class_percentage = {}\n",
    "    total_samples = len(y)\n",
    "    unique_classes = set(y)\n",
    "    \n",
    "    for cls in unique_classes:\n",
    "        class_count = sum(y == cls)\n",
    "        percentage = (class_count / total_samples) * 100\n",
    "        class_percentage[cls] = percentage\n",
    "    \n",
    "    return class_percentage\n",
    "\n",
    "# Calculate class percentages for each dataset\n",
    "fit_class_percentage = calculate_class_percentage(y_fit)\n",
    "test_class_percentage = calculate_class_percentage(y_test)\n",
    "\n",
    "# Print class percentages for each dataset\n",
    "print(\"Fit set class percentages:\")\n",
    "print(fit_class_percentage )\n",
    "print(\"\\nTest set class percentages:\")\n",
    "print(test_class_percentage)\n",
    "print('\\n Number of rows of X fit', X_fit.shape[0], '\\n Number of rows of X test', X_test.shape[0],'\\n Number of rows of Y fit', y_fit.shape[0],'\\n Number of rows of y test', y_test.shape[0],)\n"
   ]
  },
  {
   "cell_type": "code",
   "execution_count": 24,
   "metadata": {},
   "outputs": [
    {
     "name": "stdout",
     "output_type": "stream",
     "text": [
      "<class 'pandas.core.frame.DataFrame'>\n",
      "Int64Index: 31655 entries, 34605 to 35636\n",
      "Data columns (total 13 columns):\n",
      " #   Column          Non-Null Count  Dtype \n",
      "---  ------          --------------  ----- \n",
      " 0   age             31655 non-null  int64 \n",
      " 1   workclass       31655 non-null  object\n",
      " 2   fnlwgt          31655 non-null  int64 \n",
      " 3   education-num   31655 non-null  int64 \n",
      " 4   marital-status  31655 non-null  object\n",
      " 5   occupation      31655 non-null  object\n",
      " 6   relationship    31655 non-null  object\n",
      " 7   race            31655 non-null  object\n",
      " 8   sex             31655 non-null  object\n",
      " 9   capital-gain    31655 non-null  int64 \n",
      " 10  capital-loss    31655 non-null  int64 \n",
      " 11  hours-per-week  31655 non-null  int64 \n",
      " 12  native-country  31655 non-null  object\n",
      "dtypes: int64(6), object(7)\n",
      "memory usage: 3.4+ MB\n"
     ]
    }
   ],
   "source": [
    "X_fit.info()"
   ]
  },
  {
   "cell_type": "code",
   "execution_count": 25,
   "metadata": {},
   "outputs": [
    {
     "name": "stderr",
     "output_type": "stream",
     "text": [
      "C:\\Users\\dideu\\AppData\\Local\\Temp\\ipykernel_16156\\521714422.py:4: DeprecationWarning: In a future version, `df.iloc[:, i] = newvals` will attempt to set the values inplace instead of always setting a new array. To retain the old behavior, use either `df[df.columns[i]] = newvals` or, if columns are non-unique, `df.isetitem(i, newvals)`\n",
      "  X_fit.iloc[:, 1] = LE.fit_transform(X_fit.iloc[:, 1]) # Workclass\n",
      "C:\\Users\\dideu\\AppData\\Local\\Temp\\ipykernel_16156\\521714422.py:5: DeprecationWarning: In a future version, `df.iloc[:, i] = newvals` will attempt to set the values inplace instead of always setting a new array. To retain the old behavior, use either `df[df.columns[i]] = newvals` or, if columns are non-unique, `df.isetitem(i, newvals)`\n",
      "  X_test.iloc[:, 1] = LE.transform(X_test.iloc[:, 1])\n"
     ]
    },
    {
     "data": {
      "text/plain": [
       "'\\nX_fit.iloc[:, 4] = LE.fit_transform(X_fit.iloc[:, 4]) # Marital-status\\nX_test.iloc[:, 4] = LE.transform(X_test.iloc[:, 4])\\n\\nX_fit.iloc[:, 5] = LE.fit_transform(X_fit.iloc[:, 5]) # Occupation\\nX_test.iloc[:, 5] = LE.transform(X_test.iloc[:, 5])\\n\\nX_fit.iloc[:, 6] = LE.fit_transform(X_fit.iloc[:, 6]) # Relationship\\nX_test.iloc[:, 6] = LE.transform(X_test.iloc[:, 6])\\n\\nX_fit.iloc[:, 7] = LE.fit_transform(X_fit.iloc[:, 7]) # Race\\nX_test.iloc[:, 7] = LE.transform(X_test.iloc[:, 7])\\n\\nX_fit.iloc[:, 8] = LE.fit_transform(X_fit.iloc[:, 8]) # Sex\\nX_test.iloc[:, 8] = LE.transform(X_test.iloc[:, 8])\\n\\nX_fit.iloc[:, 12] = LE.fit_transform(X_fit.iloc[:, 12]) # Native-country\\nX_test.iloc[:, 12] = LE.transform(X_test.iloc[:, 12])'"
      ]
     },
     "execution_count": 25,
     "metadata": {},
     "output_type": "execute_result"
    }
   ],
   "source": [
    "# Label encoding for ordinal categorical variables. First fitting and transforming on fit set and then transforming on test set\n",
    "LE = LabelEncoder()\n",
    "\n",
    "X_fit.iloc[:, 1] = LE.fit_transform(X_fit.iloc[:, 1]) # Workclass\n",
    "X_test.iloc[:, 1] = LE.transform(X_test.iloc[:, 1])\n",
    "\n",
    "'''\n",
    "X_fit.iloc[:, 4] = LE.fit_transform(X_fit.iloc[:, 4]) # Marital-status\n",
    "X_test.iloc[:, 4] = LE.transform(X_test.iloc[:, 4])\n",
    "\n",
    "X_fit.iloc[:, 5] = LE.fit_transform(X_fit.iloc[:, 5]) # Occupation\n",
    "X_test.iloc[:, 5] = LE.transform(X_test.iloc[:, 5])\n",
    "\n",
    "X_fit.iloc[:, 6] = LE.fit_transform(X_fit.iloc[:, 6]) # Relationship\n",
    "X_test.iloc[:, 6] = LE.transform(X_test.iloc[:, 6])\n",
    "\n",
    "X_fit.iloc[:, 7] = LE.fit_transform(X_fit.iloc[:, 7]) # Race\n",
    "X_test.iloc[:, 7] = LE.transform(X_test.iloc[:, 7])\n",
    "\n",
    "X_fit.iloc[:, 8] = LE.fit_transform(X_fit.iloc[:, 8]) # Sex\n",
    "X_test.iloc[:, 8] = LE.transform(X_test.iloc[:, 8])\n",
    "\n",
    "X_fit.iloc[:, 12] = LE.fit_transform(X_fit.iloc[:, 12]) # Native-country\n",
    "X_test.iloc[:, 12] = LE.transform(X_test.iloc[:, 12])'''"
   ]
  },
  {
   "cell_type": "code",
   "execution_count": 26,
   "metadata": {},
   "outputs": [
    {
     "name": "stdout",
     "output_type": "stream",
     "text": [
      "<class 'pandas.core.frame.DataFrame'>\n",
      "Int64Index: 31655 entries, 34605 to 35636\n",
      "Data columns (total 13 columns):\n",
      " #   Column          Non-Null Count  Dtype \n",
      "---  ------          --------------  ----- \n",
      " 0   age             31655 non-null  int64 \n",
      " 1   workclass       31655 non-null  int32 \n",
      " 2   fnlwgt          31655 non-null  int64 \n",
      " 3   education-num   31655 non-null  int64 \n",
      " 4   marital-status  31655 non-null  object\n",
      " 5   occupation      31655 non-null  object\n",
      " 6   relationship    31655 non-null  object\n",
      " 7   race            31655 non-null  object\n",
      " 8   sex             31655 non-null  object\n",
      " 9   capital-gain    31655 non-null  int64 \n",
      " 10  capital-loss    31655 non-null  int64 \n",
      " 11  hours-per-week  31655 non-null  int64 \n",
      " 12  native-country  31655 non-null  object\n",
      "dtypes: int32(1), int64(6), object(6)\n",
      "memory usage: 3.3+ MB\n"
     ]
    }
   ],
   "source": [
    "X_fit.info()"
   ]
  },
  {
   "cell_type": "markdown",
   "metadata": {},
   "source": [
    "#### One-hot-encoding for non-ordinal catagorical variables, or dummification "
   ]
  },
  {
   "cell_type": "code",
   "execution_count": 27,
   "metadata": {},
   "outputs": [
    {
     "name": "stderr",
     "output_type": "stream",
     "text": [
      "c:\\Users\\dideu\\anaconda3\\envs\\banana\\lib\\site-packages\\sklearn\\preprocessing\\_encoders.py:975: FutureWarning: `sparse` was renamed to `sparse_output` in version 1.2 and will be removed in 1.4. `sparse_output` is ignored unless you leave `sparse` to its default value.\n",
      "  warnings.warn(\n"
     ]
    }
   ],
   "source": [
    "# Identify columns that are not ordinal and need one-hot encoding\n",
    "columns_to_one_hot_encode = ['marital-status', 'occupation',  'relationship', 'race', 'sex', 'native-country'] # List of non-ordinal columns\n",
    "\n",
    "# Create a OneHotEncoder instance\n",
    "one_hot_encoder = OneHotEncoder(sparse=False)  # Create a OneHotEncoder instance it indicates that the output should be in dense array format. In dense format, all elements of the transformed data are stored, regardless of whether they are zero or non-zero.\n",
    "\n",
    "# Apply one-hot encoding to the training dataset\n",
    "one_hot_encoded_columns_train = one_hot_encoder.fit_transform(X_fit[columns_to_one_hot_encode])\n",
    "# Apply the same transformation to the test dataset\n",
    "one_hot_encoded_columns_test = one_hot_encoder.transform(X_test[columns_to_one_hot_encode])\n",
    "\n",
    "# Convert the one-hot encoded columns to a DataFrame\n",
    "one_hot_encoded_df_train = pd.DataFrame(one_hot_encoded_columns_train, columns=one_hot_encoder.get_feature_names_out(columns_to_one_hot_encode))\n",
    "# Convert the one-hot encoded columns to a DataFrame\n",
    "one_hot_encoded_df_test = pd.DataFrame(one_hot_encoded_columns_test, columns=one_hot_encoder.get_feature_names_out(columns_to_one_hot_encode))\n",
    "\n",
    "# Drop the original columns from X_train\n",
    "X_fit.drop(columns_to_one_hot_encode, axis=1, inplace=True)\n",
    "# Drop the original columns from X_test\n",
    "X_test.drop(columns_to_one_hot_encode, axis=1, inplace=True)\n",
    "\n",
    "# Concatenate the original DataFrame with the one-hot encoded DataFrame\n",
    "X_fit = pd.concat([X_fit.reset_index(drop=True), one_hot_encoded_df_train.reset_index(drop=True)], axis=1)\n",
    "# Concatenate the original DataFrame with the one-hot encoded DataFrame\n",
    "X_test = pd.concat([X_test.reset_index(drop=True), one_hot_encoded_df_test.reset_index(drop=True)], axis=1)\n"
   ]
  },
  {
   "cell_type": "code",
   "execution_count": 28,
   "metadata": {},
   "outputs": [
    {
     "name": "stdout",
     "output_type": "stream",
     "text": [
      "<class 'pandas.core.frame.DataFrame'>\n",
      "RangeIndex: 31655 entries, 0 to 31654\n",
      "Data columns (total 82 columns):\n",
      " #   Column                                     Non-Null Count  Dtype  \n",
      "---  ------                                     --------------  -----  \n",
      " 0   age                                        31655 non-null  int64  \n",
      " 1   workclass                                  31655 non-null  int32  \n",
      " 2   fnlwgt                                     31655 non-null  int64  \n",
      " 3   education-num                              31655 non-null  int64  \n",
      " 4   capital-gain                               31655 non-null  int64  \n",
      " 5   capital-loss                               31655 non-null  int64  \n",
      " 6   hours-per-week                             31655 non-null  int64  \n",
      " 7   marital-status_Divorced                    31655 non-null  float64\n",
      " 8   marital-status_Married-AF-spouse           31655 non-null  float64\n",
      " 9   marital-status_Married-civ-spouse          31655 non-null  float64\n",
      " 10  marital-status_Married-spouse-absent       31655 non-null  float64\n",
      " 11  marital-status_Never-married               31655 non-null  float64\n",
      " 12  marital-status_Separated                   31655 non-null  float64\n",
      " 13  marital-status_Widowed                     31655 non-null  float64\n",
      " 14  occupation_Adm-clerical                    31655 non-null  float64\n",
      " 15  occupation_Armed-Forces                    31655 non-null  float64\n",
      " 16  occupation_Craft-repair                    31655 non-null  float64\n",
      " 17  occupation_Exec-managerial                 31655 non-null  float64\n",
      " 18  occupation_Farming-fishing                 31655 non-null  float64\n",
      " 19  occupation_Handlers-cleaners               31655 non-null  float64\n",
      " 20  occupation_Machine-op-inspct               31655 non-null  float64\n",
      " 21  occupation_Other-service                   31655 non-null  float64\n",
      " 22  occupation_Priv-house-serv                 31655 non-null  float64\n",
      " 23  occupation_Prof-specialty                  31655 non-null  float64\n",
      " 24  occupation_Protective-serv                 31655 non-null  float64\n",
      " 25  occupation_Sales                           31655 non-null  float64\n",
      " 26  occupation_Tech-support                    31655 non-null  float64\n",
      " 27  occupation_Transport-moving                31655 non-null  float64\n",
      " 28  relationship_Husband                       31655 non-null  float64\n",
      " 29  relationship_Not-in-family                 31655 non-null  float64\n",
      " 30  relationship_Other-relative                31655 non-null  float64\n",
      " 31  relationship_Own-child                     31655 non-null  float64\n",
      " 32  relationship_Unmarried                     31655 non-null  float64\n",
      " 33  relationship_Wife                          31655 non-null  float64\n",
      " 34  race_Amer-Indian-Eskimo                    31655 non-null  float64\n",
      " 35  race_Asian-Pac-Islander                    31655 non-null  float64\n",
      " 36  race_Black                                 31655 non-null  float64\n",
      " 37  race_Other                                 31655 non-null  float64\n",
      " 38  race_White                                 31655 non-null  float64\n",
      " 39  sex_Female                                 31655 non-null  float64\n",
      " 40  sex_Male                                   31655 non-null  float64\n",
      " 41  native-country_Cambodia                    31655 non-null  float64\n",
      " 42  native-country_Canada                      31655 non-null  float64\n",
      " 43  native-country_China                       31655 non-null  float64\n",
      " 44  native-country_Columbia                    31655 non-null  float64\n",
      " 45  native-country_Cuba                        31655 non-null  float64\n",
      " 46  native-country_Dominican-Republic          31655 non-null  float64\n",
      " 47  native-country_Ecuador                     31655 non-null  float64\n",
      " 48  native-country_El-Salvador                 31655 non-null  float64\n",
      " 49  native-country_England                     31655 non-null  float64\n",
      " 50  native-country_France                      31655 non-null  float64\n",
      " 51  native-country_Germany                     31655 non-null  float64\n",
      " 52  native-country_Greece                      31655 non-null  float64\n",
      " 53  native-country_Guatemala                   31655 non-null  float64\n",
      " 54  native-country_Haiti                       31655 non-null  float64\n",
      " 55  native-country_Holand-Netherlands          31655 non-null  float64\n",
      " 56  native-country_Honduras                    31655 non-null  float64\n",
      " 57  native-country_Hong                        31655 non-null  float64\n",
      " 58  native-country_Hungary                     31655 non-null  float64\n",
      " 59  native-country_India                       31655 non-null  float64\n",
      " 60  native-country_Iran                        31655 non-null  float64\n",
      " 61  native-country_Ireland                     31655 non-null  float64\n",
      " 62  native-country_Italy                       31655 non-null  float64\n",
      " 63  native-country_Jamaica                     31655 non-null  float64\n",
      " 64  native-country_Japan                       31655 non-null  float64\n",
      " 65  native-country_Laos                        31655 non-null  float64\n",
      " 66  native-country_Mexico                      31655 non-null  float64\n",
      " 67  native-country_Nicaragua                   31655 non-null  float64\n",
      " 68  native-country_Outlying-US(Guam-USVI-etc)  31655 non-null  float64\n",
      " 69  native-country_Peru                        31655 non-null  float64\n",
      " 70  native-country_Philippines                 31655 non-null  float64\n",
      " 71  native-country_Poland                      31655 non-null  float64\n",
      " 72  native-country_Portugal                    31655 non-null  float64\n",
      " 73  native-country_Puerto-Rico                 31655 non-null  float64\n",
      " 74  native-country_Scotland                    31655 non-null  float64\n",
      " 75  native-country_South                       31655 non-null  float64\n",
      " 76  native-country_Taiwan                      31655 non-null  float64\n",
      " 77  native-country_Thailand                    31655 non-null  float64\n",
      " 78  native-country_Trinadad&Tobago             31655 non-null  float64\n",
      " 79  native-country_United-States               31655 non-null  float64\n",
      " 80  native-country_Vietnam                     31655 non-null  float64\n",
      " 81  native-country_Yugoslavia                  31655 non-null  float64\n",
      "dtypes: float64(75), int32(1), int64(6)\n",
      "memory usage: 19.7 MB\n"
     ]
    }
   ],
   "source": [
    "X_fit.info()"
   ]
  },
  {
   "cell_type": "code",
   "execution_count": 29,
   "metadata": {},
   "outputs": [
    {
     "name": "stdout",
     "output_type": "stream",
     "text": [
      "Fit set class percentages:\n",
      "{0: 75.13504975517296, 1: 24.864950244827043}\n",
      "\n",
      "Test set class percentages:\n",
      "{0: 75.40355273826196, 1: 24.596447261738042}\n",
      "\n",
      " Number of rows of X fit 31655 \n",
      " Number of rows of X test 13567 \n",
      " Number of rows of Y fit 31655 \n",
      " Number of rows of y test 13567\n"
     ]
    }
   ],
   "source": [
    "# Defined a function to calculate  and print the percentage of each class in the target variable\n",
    "def calculate_class_percentage(y):\n",
    "    class_percentage = {}\n",
    "    total_samples = len(y)\n",
    "    unique_classes = set(y)\n",
    "    \n",
    "    for cls in unique_classes:\n",
    "        class_count = sum(y == cls)\n",
    "        percentage = (class_count / total_samples) * 100\n",
    "        class_percentage[cls] = percentage\n",
    "    \n",
    "    return class_percentage\n",
    "\n",
    "# Calculate class percentages for each dataset\n",
    "fit_class_percentage = calculate_class_percentage(y_fit)\n",
    "test_class_percentage = calculate_class_percentage(y_test)\n",
    "\n",
    "# Print class percentages for each dataset\n",
    "print(\"Fit set class percentages:\")\n",
    "print(fit_class_percentage )\n",
    "print(\"\\nTest set class percentages:\")\n",
    "print(test_class_percentage)\n",
    "print('\\n Number of rows of X fit', X_fit.shape[0], '\\n Number of rows of X test', X_test.shape[0],'\\n Number of rows of Y fit', y_fit.shape[0],'\\n Number of rows of y test', y_test.shape[0],)\n"
   ]
  },
  {
   "cell_type": "markdown",
   "metadata": {},
   "source": []
  },
  {
   "cell_type": "code",
   "execution_count": 30,
   "metadata": {},
   "outputs": [],
   "source": [
    "# Save data to a pickle file\n",
    "with open('data.pickle', 'wb') as f:\n",
    "    pickle.dump((X_fit, y_fit, X_test, y_test), f)"
   ]
  }
 ],
 "metadata": {
  "kernelspec": {
   "display_name": "banana",
   "language": "python",
   "name": "python3"
  },
  "language_info": {
   "codemirror_mode": {
    "name": "ipython",
    "version": 3
   },
   "file_extension": ".py",
   "mimetype": "text/x-python",
   "name": "python",
   "nbconvert_exporter": "python",
   "pygments_lexer": "ipython3",
   "version": "3.10.0"
  }
 },
 "nbformat": 4,
 "nbformat_minor": 2
}
